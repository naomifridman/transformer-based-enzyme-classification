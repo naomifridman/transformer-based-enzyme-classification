{
 "cells": [
  {
   "cell_type": "markdown",
   "id": "2d2ce4ce",
   "metadata": {},
   "source": [
    "# Predicy Enzyme Dataset"
   ]
  },
  {
   "cell_type": "markdown",
   "id": "71c34629-654c-4aae-ba90-4a8709cfca1a",
   "metadata": {},
   "source": [
    "[![Open In Colab](https://colab.research.google.com/assets/colab-badge.svg)](https://colab.research.google.com/github/naomifridman/transformer-based-enzyme-classification/blob/main/predict_enzyme_function_dataset.ipynb)"
   ]
  },
  {
   "cell_type": "code",
   "execution_count": 6,
   "id": "72ba4ad5",
   "metadata": {},
   "outputs": [],
   "source": [
    "import pandas as pd\n",
    "import random\n",
    "import matplotlib.pyplot as plt"
   ]
  },
  {
   "cell_type": "code",
   "execution_count": null,
   "id": "5dfcc394-9a37-4a8f-9343-a431629e9476",
   "metadata": {},
   "outputs": [],
   "source": [
    "# Check if running in Google Colab\n",
    "\n",
    "if 'google.colab' in str(get_ipython()):\n",
    "    print(\"Running in Google Colab\")\n",
    "    # Clone the repository\n",
    "    !git clone https://github.com/naomifridman/transformer-based-enzyme-classification.git\n",
    "\n",
    "    # Change to the repository directory\n",
    "    os.chdir('/content/transformer-based-enzyme-classification')\n"
   ]
  },
  {
   "cell_type": "code",
   "execution_count": null,
   "id": "32026adc-fd1a-4396-a8dc-2242e1158380",
   "metadata": {},
   "outputs": [],
   "source": [
    "!mkdir models"
   ]
  },
  {
   "cell_type": "code",
   "execution_count": 50,
   "id": "298cc41b-9f00-4376-8abf-091dfa0556c8",
   "metadata": {},
   "outputs": [
    {
     "name": "stderr",
     "output_type": "stream",
     "text": [
      "'wget' is not recognized as an internal or external command,\n",
      "operable program or batch file.\n"
     ]
    }
   ],
   "source": [
    "!wget [ZENODO_URL]/models/esm2_model_classification_is_enzyme.pth"
   ]
  },
  {
   "cell_type": "code",
   "execution_count": 29,
   "id": "c5afbb59",
   "metadata": {},
   "outputs": [
    {
     "name": "stderr",
     "output_type": "stream",
     "text": [
      "C:\\Users\\naomi\\AppData\\Local\\Temp\\ipykernel_55484\\3910688072.py:1: DtypeWarning: Columns (7,19,20,21) have mixed types. Specify dtype option on import or set low_memory=False.\n",
      "  df = pd.read_csv('gene_dataset/gene_enzyme_prediction_dataset.csv')\n"
     ]
    },
    {
     "data": {
      "text/html": [
       "<div>\n",
       "<style scoped>\n",
       "    .dataframe tbody tr th:only-of-type {\n",
       "        vertical-align: middle;\n",
       "    }\n",
       "\n",
       "    .dataframe tbody tr th {\n",
       "        vertical-align: top;\n",
       "    }\n",
       "\n",
       "    .dataframe thead th {\n",
       "        text-align: right;\n",
       "    }\n",
       "</style>\n",
       "<table border=\"1\" class=\"dataframe\">\n",
       "  <thead>\n",
       "    <tr style=\"text-align: right;\">\n",
       "      <th></th>\n",
       "      <th>Entry</th>\n",
       "      <th>Reviewed</th>\n",
       "      <th>Entry Name</th>\n",
       "      <th>Protein names</th>\n",
       "      <th>Gene Names</th>\n",
       "      <th>Organism</th>\n",
       "      <th>Length</th>\n",
       "      <th>EC number</th>\n",
       "      <th>Sequence</th>\n",
       "      <th>Date of creation</th>\n",
       "      <th>...</th>\n",
       "      <th>ec3</th>\n",
       "      <th>ec4</th>\n",
       "      <th>n_ec</th>\n",
       "      <th>cerevisiae</th>\n",
       "      <th>lable</th>\n",
       "      <th>test</th>\n",
       "      <th>maya_prot</th>\n",
       "      <th>maya_cluster</th>\n",
       "      <th>sw_valid</th>\n",
       "      <th>sw_test</th>\n",
       "    </tr>\n",
       "  </thead>\n",
       "  <tbody>\n",
       "    <tr>\n",
       "      <th>0</th>\n",
       "      <td>A0A026W182</td>\n",
       "      <td>reviewed</td>\n",
       "      <td>ORCO_OOCBI</td>\n",
       "      <td>Odorant receptor coreceptor</td>\n",
       "      <td>Orco X777_12371</td>\n",
       "      <td>Ooceraea biroi (Clonal raider ant) (Cerapachys...</td>\n",
       "      <td>478</td>\n",
       "      <td>NaN</td>\n",
       "      <td>MMKMKQQGLVADLLPNIRVMKTFGHFVFNYYNDNSSKYLHKVYCCV...</td>\n",
       "      <td>2017-10-25</td>\n",
       "      <td>...</td>\n",
       "      <td>0</td>\n",
       "      <td>0</td>\n",
       "      <td>0</td>\n",
       "      <td>0</td>\n",
       "      <td>0</td>\n",
       "      <td>0</td>\n",
       "      <td>0</td>\n",
       "      <td>0</td>\n",
       "      <td>0</td>\n",
       "      <td>0</td>\n",
       "    </tr>\n",
       "    <tr>\n",
       "      <th>1</th>\n",
       "      <td>A0A068B6Q6</td>\n",
       "      <td>reviewed</td>\n",
       "      <td>CA18_CONBE</td>\n",
       "      <td>Conotoxin Bt1.8</td>\n",
       "      <td>NaN</td>\n",
       "      <td>Conus betulinus (Beech cone)</td>\n",
       "      <td>37</td>\n",
       "      <td>NaN</td>\n",
       "      <td>PDGRNAAAKAFDLITPTVRKGCCSNPACILNNPNQCG</td>\n",
       "      <td>2019-10-16</td>\n",
       "      <td>...</td>\n",
       "      <td>0</td>\n",
       "      <td>0</td>\n",
       "      <td>0</td>\n",
       "      <td>0</td>\n",
       "      <td>0</td>\n",
       "      <td>0</td>\n",
       "      <td>0</td>\n",
       "      <td>0</td>\n",
       "      <td>0</td>\n",
       "      <td>0</td>\n",
       "    </tr>\n",
       "    <tr>\n",
       "      <th>2</th>\n",
       "      <td>A0A075F932</td>\n",
       "      <td>reviewed</td>\n",
       "      <td>SYT1_ANSCY</td>\n",
       "      <td>Synaptotagmin-1 (Synaptotagmin I) (SytI)</td>\n",
       "      <td>SYT1</td>\n",
       "      <td>Anser cygnoides (Swan goose)</td>\n",
       "      <td>421</td>\n",
       "      <td>NaN</td>\n",
       "      <td>MVSESHHEALAAPPATTVAAAPPSNVTEPASPGGGGGKEDAFSKLK...</td>\n",
       "      <td>2015-11-11</td>\n",
       "      <td>...</td>\n",
       "      <td>0</td>\n",
       "      <td>0</td>\n",
       "      <td>0</td>\n",
       "      <td>0</td>\n",
       "      <td>0</td>\n",
       "      <td>0</td>\n",
       "      <td>0</td>\n",
       "      <td>0</td>\n",
       "      <td>0</td>\n",
       "      <td>0</td>\n",
       "    </tr>\n",
       "    <tr>\n",
       "      <th>3</th>\n",
       "      <td>A0A075QQ08</td>\n",
       "      <td>reviewed</td>\n",
       "      <td>IF4E1_TOBAC</td>\n",
       "      <td>Eukaryotic translation initiation factor 4E-1 ...</td>\n",
       "      <td>eIF4E EIF4E2-T T015277 LOC107829212</td>\n",
       "      <td>Nicotiana tabacum (Common tobacco)</td>\n",
       "      <td>222</td>\n",
       "      <td>NaN</td>\n",
       "      <td>MVDEVEKPASLEESKTNTREVEEGAEEVIESDDTMSSLGNPCKAMK...</td>\n",
       "      <td>2022-02-23</td>\n",
       "      <td>...</td>\n",
       "      <td>0</td>\n",
       "      <td>0</td>\n",
       "      <td>0</td>\n",
       "      <td>0</td>\n",
       "      <td>0</td>\n",
       "      <td>0</td>\n",
       "      <td>0</td>\n",
       "      <td>0</td>\n",
       "      <td>0</td>\n",
       "      <td>0</td>\n",
       "    </tr>\n",
       "    <tr>\n",
       "      <th>4</th>\n",
       "      <td>A0A088MIT0</td>\n",
       "      <td>reviewed</td>\n",
       "      <td>BRKP2_PHYNA</td>\n",
       "      <td>Bradykinin-related peptides [Cleaved into: Nat...</td>\n",
       "      <td>BBN</td>\n",
       "      <td>Physalaemus nattereri (Cuyaba dwarf frog) (Eup...</td>\n",
       "      <td>134</td>\n",
       "      <td>NaN</td>\n",
       "      <td>MAFLKKSLFLVLFLGVVSLSFCEEEKREEHEEEKRDEEDAESLGKR...</td>\n",
       "      <td>2017-02-15</td>\n",
       "      <td>...</td>\n",
       "      <td>0</td>\n",
       "      <td>0</td>\n",
       "      <td>0</td>\n",
       "      <td>0</td>\n",
       "      <td>0</td>\n",
       "      <td>0</td>\n",
       "      <td>0</td>\n",
       "      <td>0</td>\n",
       "      <td>0</td>\n",
       "      <td>0</td>\n",
       "    </tr>\n",
       "  </tbody>\n",
       "</table>\n",
       "<p>5 rows × 30 columns</p>\n",
       "</div>"
      ],
      "text/plain": [
       "        Entry  Reviewed   Entry Name  \\\n",
       "0  A0A026W182  reviewed   ORCO_OOCBI   \n",
       "1  A0A068B6Q6  reviewed   CA18_CONBE   \n",
       "2  A0A075F932  reviewed   SYT1_ANSCY   \n",
       "3  A0A075QQ08  reviewed  IF4E1_TOBAC   \n",
       "4  A0A088MIT0  reviewed  BRKP2_PHYNA   \n",
       "\n",
       "                                       Protein names  \\\n",
       "0                        Odorant receptor coreceptor   \n",
       "1                                    Conotoxin Bt1.8   \n",
       "2           Synaptotagmin-1 (Synaptotagmin I) (SytI)   \n",
       "3  Eukaryotic translation initiation factor 4E-1 ...   \n",
       "4  Bradykinin-related peptides [Cleaved into: Nat...   \n",
       "\n",
       "                            Gene Names  \\\n",
       "0                      Orco X777_12371   \n",
       "1                                  NaN   \n",
       "2                                 SYT1   \n",
       "3  eIF4E EIF4E2-T T015277 LOC107829212   \n",
       "4                                  BBN   \n",
       "\n",
       "                                            Organism  Length EC number  \\\n",
       "0  Ooceraea biroi (Clonal raider ant) (Cerapachys...     478       NaN   \n",
       "1                       Conus betulinus (Beech cone)      37       NaN   \n",
       "2                       Anser cygnoides (Swan goose)     421       NaN   \n",
       "3                 Nicotiana tabacum (Common tobacco)     222       NaN   \n",
       "4  Physalaemus nattereri (Cuyaba dwarf frog) (Eup...     134       NaN   \n",
       "\n",
       "                                            Sequence Date of creation  ...  \\\n",
       "0  MMKMKQQGLVADLLPNIRVMKTFGHFVFNYYNDNSSKYLHKVYCCV...       2017-10-25  ...   \n",
       "1              PDGRNAAAKAFDLITPTVRKGCCSNPACILNNPNQCG       2019-10-16  ...   \n",
       "2  MVSESHHEALAAPPATTVAAAPPSNVTEPASPGGGGGKEDAFSKLK...       2015-11-11  ...   \n",
       "3  MVDEVEKPASLEESKTNTREVEEGAEEVIESDDTMSSLGNPCKAMK...       2022-02-23  ...   \n",
       "4  MAFLKKSLFLVLFLGVVSLSFCEEEKREEHEEEKRDEEDAESLGKR...       2017-02-15  ...   \n",
       "\n",
       "  ec3  ec4 n_ec  cerevisiae  lable test  maya_prot maya_cluster  sw_valid  \\\n",
       "0   0    0    0           0      0    0          0            0         0   \n",
       "1   0    0    0           0      0    0          0            0         0   \n",
       "2   0    0    0           0      0    0          0            0         0   \n",
       "3   0    0    0           0      0    0          0            0         0   \n",
       "4   0    0    0           0      0    0          0            0         0   \n",
       "\n",
       "  sw_test  \n",
       "0       0  \n",
       "1       0  \n",
       "2       0  \n",
       "3       0  \n",
       "4       0  \n",
       "\n",
       "[5 rows x 30 columns]"
      ]
     },
     "execution_count": 29,
     "metadata": {},
     "output_type": "execute_result"
    }
   ],
   "source": [
    "df = pd.read_csv('gene_dataset/gene_enzyme_prediction_dataset.csv')\n",
    "df.head()"
   ]
  },
  {
   "cell_type": "code",
   "execution_count": 30,
   "id": "7536b113-f37d-49f2-9131-a319718a0b5f",
   "metadata": {},
   "outputs": [
    {
     "name": "stdout",
     "output_type": "stream",
     "text": [
      "<class 'pandas.core.frame.DataFrame'>\n",
      "RangeIndex: 459184 entries, 0 to 459183\n",
      "Data columns (total 30 columns):\n",
      " #   Column                              Non-Null Count   Dtype  \n",
      "---  ------                              --------------   -----  \n",
      " 0   Entry                               459184 non-null  object \n",
      " 1   Reviewed                            459184 non-null  object \n",
      " 2   Entry Name                          459184 non-null  object \n",
      " 3   Protein names                       459184 non-null  object \n",
      " 4   Gene Names                          441646 non-null  object \n",
      " 5   Organism                            459184 non-null  object \n",
      " 6   Length                              459184 non-null  int64  \n",
      " 7   EC number                           217497 non-null  object \n",
      " 8   Sequence                            459184 non-null  object \n",
      " 9   Date of creation                    459184 non-null  object \n",
      " 10  Date of last modification           459184 non-null  object \n",
      " 11  Entry version                       459184 non-null  int64  \n",
      " 12  Date of last sequence modification  459184 non-null  object \n",
      " 13  Sequence version                    459184 non-null  int64  \n",
      " 14  Sequence uncertainty                0 non-null       float64\n",
      " 15  Function [CC]                       370768 non-null  object \n",
      " 16  Annotation                          459184 non-null  float64\n",
      " 17  ec                                  459184 non-null  object \n",
      " 18  ec1                                 459184 non-null  int64  \n",
      " 19  ec2                                 459184 non-null  object \n",
      " 20  ec3                                 459184 non-null  object \n",
      " 21  ec4                                 459184 non-null  object \n",
      " 22  n_ec                                459184 non-null  int64  \n",
      " 23  cerevisiae                          459184 non-null  int64  \n",
      " 24  lable                               459184 non-null  int64  \n",
      " 25  test                                459184 non-null  int64  \n",
      " 26  maya_prot                           459184 non-null  int64  \n",
      " 27  maya_cluster                        459184 non-null  int64  \n",
      " 28  sw_valid                            459184 non-null  int64  \n",
      " 29  sw_test                             459184 non-null  int64  \n",
      "dtypes: float64(2), int64(12), object(16)\n",
      "memory usage: 105.1+ MB\n"
     ]
    }
   ],
   "source": [
    "df.info()"
   ]
  },
  {
   "cell_type": "code",
   "execution_count": 31,
   "id": "59cdbe69-fdeb-4d05-a6df-576b1c60e127",
   "metadata": {},
   "outputs": [
    {
     "data": {
      "text/plain": [
       "Index(['Entry', 'Reviewed', 'Entry Name', 'Protein names', 'Gene Names',\n",
       "       'Organism', 'Length', 'EC number', 'Sequence', 'Date of creation',\n",
       "       'Date of last modification', 'Entry version',\n",
       "       'Date of last sequence modification', 'Sequence version',\n",
       "       'Sequence uncertainty', 'Function [CC]', 'Annotation', 'ec', 'ec1',\n",
       "       'ec2', 'ec3', 'ec4', 'n_ec', 'cerevisiae', 'lable', 'test', 'maya_prot',\n",
       "       'maya_cluster', 'sw_valid', 'sw_test'],\n",
       "      dtype='object')"
      ]
     },
     "execution_count": 31,
     "metadata": {},
     "output_type": "execute_result"
    }
   ],
   "source": [
    "df.columns"
   ]
  },
  {
   "cell_type": "code",
   "execution_count": 44,
   "id": "348c13b6-51f1-4a9e-8c24-cb4d49971a0e",
   "metadata": {},
   "outputs": [
    {
     "name": "stdout",
     "output_type": "stream",
     "text": [
      "<class 'pandas.core.frame.DataFrame'>\n",
      "RangeIndex: 6124 entries, 0 to 6123\n",
      "Data columns (total 18 columns):\n",
      " #   Column            Non-Null Count  Dtype  \n",
      "---  ------            --------------  -----  \n",
      " 0   id_uniprot        6124 non-null   object \n",
      " 1   sequence          6124 non-null   object \n",
      " 2   ec_number         6124 non-null   object \n",
      " 3   label             6124 non-null   int64  \n",
      " 4   test              6124 non-null   int64  \n",
      " 5   ec1               4594 non-null   object \n",
      " 6   n_EC              4594 non-null   float64\n",
      " 7   ec_in_uniprot_db  1530 non-null   object \n",
      " 8   len               6124 non-null   int64  \n",
      " 9   pred              6124 non-null   float64\n",
      " 10  Organism          6124 non-null   object \n",
      " 11  BRENDA            467 non-null    object \n",
      " 12  EC number         2998 non-null   object \n",
      " 13  Reviewed          6124 non-null   object \n",
      " 14  Annotation        6124 non-null   float64\n",
      " 15  cerevisiae        6124 non-null   float64\n",
      " 16  pred2             6124 non-null   float64\n",
      " 17  pred3             6124 non-null   float64\n",
      "dtypes: float64(6), int64(3), object(9)\n",
      "memory usage: 861.3+ KB\n"
     ]
    }
   ],
   "source": [
    "df=pd.read_csv('../df_test_pred_uni_2.csv')\n",
    "df.info()"
   ]
  },
  {
   "cell_type": "code",
   "execution_count": 45,
   "id": "c259f98a-5c27-4415-a4d1-d3e82f56f6b3",
   "metadata": {},
   "outputs": [
    {
     "data": {
      "text/plain": [
       "Index(['id_uniprot', 'sequence', 'ec_number', 'label', 'test', 'ec1', 'n_EC',\n",
       "       'ec_in_uniprot_db', 'len', 'pred', 'Organism', 'BRENDA', 'EC number',\n",
       "       'Reviewed', 'Annotation', 'cerevisiae', 'pred2', 'pred3'],\n",
       "      dtype='object')"
      ]
     },
     "execution_count": 45,
     "metadata": {},
     "output_type": "execute_result"
    }
   ],
   "source": [
    "df.columns"
   ]
  },
  {
   "cell_type": "code",
   "execution_count": 46,
   "id": "60baf67f-6f16-443e-8f1f-b7dd798a853a",
   "metadata": {},
   "outputs": [],
   "source": [
    "df=df[['id_uniprot', 'ec_number', 'label', 'test', 'ec1', 'n_EC',\n",
    "       'ec_in_uniprot_db', 'len', 'pred', 'BRENDA', 'EC number',\n",
    "        'pred2']]"
   ]
  },
  {
   "cell_type": "code",
   "execution_count": 47,
   "id": "0b669942-35a8-470c-826d-b04c89d648f0",
   "metadata": {},
   "outputs": [
    {
     "data": {
      "text/plain": [
       "test\n",
       "0    4069\n",
       "3    1530\n",
       "1     517\n",
       "2       8\n",
       "Name: count, dtype: int64"
      ]
     },
     "execution_count": 47,
     "metadata": {},
     "output_type": "execute_result"
    }
   ],
   "source": [
    "df.test.value_counts()"
   ]
  },
  {
   "cell_type": "code",
   "execution_count": 49,
   "id": "abf82abb-bc01-42a0-bcc4-bb71ab2137e0",
   "metadata": {},
   "outputs": [
    {
     "data": {
      "text/html": [
       "<div>\n",
       "<style scoped>\n",
       "    .dataframe tbody tr th:only-of-type {\n",
       "        vertical-align: middle;\n",
       "    }\n",
       "\n",
       "    .dataframe tbody tr th {\n",
       "        vertical-align: top;\n",
       "    }\n",
       "\n",
       "    .dataframe thead th {\n",
       "        text-align: right;\n",
       "    }\n",
       "</style>\n",
       "<table border=\"1\" class=\"dataframe\">\n",
       "  <thead>\n",
       "    <tr style=\"text-align: right;\">\n",
       "      <th></th>\n",
       "      <th>id_uniprot</th>\n",
       "      <th>ec_number</th>\n",
       "      <th>label</th>\n",
       "      <th>test</th>\n",
       "      <th>ec1</th>\n",
       "      <th>n_EC</th>\n",
       "      <th>ec_in_uniprot_db</th>\n",
       "      <th>len</th>\n",
       "      <th>pred</th>\n",
       "      <th>BRENDA</th>\n",
       "      <th>EC number</th>\n",
       "      <th>pred2</th>\n",
       "    </tr>\n",
       "  </thead>\n",
       "  <tbody>\n",
       "    <tr>\n",
       "      <th>4594</th>\n",
       "      <td>A0A0C6DRW4</td>\n",
       "      <td>1.14.14.21</td>\n",
       "      <td>1</td>\n",
       "      <td>3</td>\n",
       "      <td>NaN</td>\n",
       "      <td>NaN</td>\n",
       "      <td>1.14.14.21</td>\n",
       "      <td>417</td>\n",
       "      <td>0.857011</td>\n",
       "      <td>1.14.14.21;</td>\n",
       "      <td>1.14.14.21</td>\n",
       "      <td>0.430261</td>\n",
       "    </tr>\n",
       "    <tr>\n",
       "      <th>4595</th>\n",
       "      <td>A0A0F5HNH9</td>\n",
       "      <td>1.16.3.1</td>\n",
       "      <td>1</td>\n",
       "      <td>3</td>\n",
       "      <td>NaN</td>\n",
       "      <td>NaN</td>\n",
       "      <td>1.16.3.1</td>\n",
       "      <td>192</td>\n",
       "      <td>0.022846</td>\n",
       "      <td>NaN</td>\n",
       "      <td>1.16.3.1</td>\n",
       "      <td>0.065401</td>\n",
       "    </tr>\n",
       "    <tr>\n",
       "      <th>4596</th>\n",
       "      <td>A0A1S3XSG2</td>\n",
       "      <td>1.4.3.-; 1.4.3.21</td>\n",
       "      <td>1</td>\n",
       "      <td>3</td>\n",
       "      <td>NaN</td>\n",
       "      <td>NaN</td>\n",
       "      <td>1.4.3.-; 1.4.3.21</td>\n",
       "      <td>786</td>\n",
       "      <td>0.377621</td>\n",
       "      <td>NaN</td>\n",
       "      <td>1.4.3.-; 1.4.3.21</td>\n",
       "      <td>0.626781</td>\n",
       "    </tr>\n",
       "    <tr>\n",
       "      <th>4597</th>\n",
       "      <td>A0A1W7HCY1</td>\n",
       "      <td>1.16.1.10</td>\n",
       "      <td>1</td>\n",
       "      <td>3</td>\n",
       "      <td>NaN</td>\n",
       "      <td>NaN</td>\n",
       "      <td>1.16.1.10</td>\n",
       "      <td>244</td>\n",
       "      <td>0.086621</td>\n",
       "      <td>NaN</td>\n",
       "      <td>1.16.1.10</td>\n",
       "      <td>0.343390</td>\n",
       "    </tr>\n",
       "    <tr>\n",
       "      <th>4598</th>\n",
       "      <td>A0QYE8</td>\n",
       "      <td>1.7.1.7</td>\n",
       "      <td>1</td>\n",
       "      <td>3</td>\n",
       "      <td>NaN</td>\n",
       "      <td>NaN</td>\n",
       "      <td>1.7.1.7</td>\n",
       "      <td>478</td>\n",
       "      <td>0.978619</td>\n",
       "      <td>NaN</td>\n",
       "      <td>1.7.1.7</td>\n",
       "      <td>0.954013</td>\n",
       "    </tr>\n",
       "  </tbody>\n",
       "</table>\n",
       "</div>"
      ],
      "text/plain": [
       "      id_uniprot          ec_number  label  test  ec1  n_EC  \\\n",
       "4594  A0A0C6DRW4         1.14.14.21      1     3  NaN   NaN   \n",
       "4595  A0A0F5HNH9           1.16.3.1      1     3  NaN   NaN   \n",
       "4596  A0A1S3XSG2  1.4.3.-; 1.4.3.21      1     3  NaN   NaN   \n",
       "4597  A0A1W7HCY1          1.16.1.10      1     3  NaN   NaN   \n",
       "4598      A0QYE8            1.7.1.7      1     3  NaN   NaN   \n",
       "\n",
       "       ec_in_uniprot_db  len      pred       BRENDA          EC number  \\\n",
       "4594         1.14.14.21  417  0.857011  1.14.14.21;         1.14.14.21   \n",
       "4595           1.16.3.1  192  0.022846          NaN           1.16.3.1   \n",
       "4596  1.4.3.-; 1.4.3.21  786  0.377621          NaN  1.4.3.-; 1.4.3.21   \n",
       "4597          1.16.1.10  244  0.086621          NaN          1.16.1.10   \n",
       "4598            1.7.1.7  478  0.978619          NaN            1.7.1.7   \n",
       "\n",
       "         pred2  \n",
       "4594  0.430261  \n",
       "4595  0.065401  \n",
       "4596  0.626781  \n",
       "4597  0.343390  \n",
       "4598  0.954013  "
      ]
     },
     "execution_count": 49,
     "metadata": {},
     "output_type": "execute_result"
    }
   ],
   "source": [
    "df[~df.ec_in_uniprot_db.isna()].head()"
   ]
  },
  {
   "cell_type": "code",
   "execution_count": 34,
   "id": "685f2a4a-ba06-4fae-aab6-87a0149018bf",
   "metadata": {},
   "outputs": [
    {
     "data": {
      "text/html": [
       "<div>\n",
       "<style scoped>\n",
       "    .dataframe tbody tr th:only-of-type {\n",
       "        vertical-align: middle;\n",
       "    }\n",
       "\n",
       "    .dataframe tbody tr th {\n",
       "        vertical-align: top;\n",
       "    }\n",
       "\n",
       "    .dataframe thead th {\n",
       "        text-align: right;\n",
       "    }\n",
       "</style>\n",
       "<table border=\"1\" class=\"dataframe\">\n",
       "  <thead>\n",
       "    <tr style=\"text-align: right;\">\n",
       "      <th></th>\n",
       "      <th>Entry</th>\n",
       "      <th>Reviewed</th>\n",
       "      <th>Entry Name</th>\n",
       "      <th>Protein names</th>\n",
       "      <th>Gene Names</th>\n",
       "      <th>Organism</th>\n",
       "      <th>Length</th>\n",
       "      <th>EC number</th>\n",
       "      <th>Sequence</th>\n",
       "      <th>Date of creation</th>\n",
       "      <th>...</th>\n",
       "      <th>ec1</th>\n",
       "      <th>ec2</th>\n",
       "      <th>ec3</th>\n",
       "      <th>ec4</th>\n",
       "      <th>n_ec</th>\n",
       "      <th>cerevisiae</th>\n",
       "      <th>lable</th>\n",
       "      <th>test</th>\n",
       "      <th>maya_prot</th>\n",
       "      <th>maya_cluster</th>\n",
       "    </tr>\n",
       "  </thead>\n",
       "  <tbody>\n",
       "    <tr>\n",
       "      <th>241687</th>\n",
       "      <td>A0A009IHW8</td>\n",
       "      <td>reviewed</td>\n",
       "      <td>ABTIR_ACIB9</td>\n",
       "      <td>2' cyclic ADP-D-ribose synthase AbTIR (2'cADPR...</td>\n",
       "      <td>J512_3302</td>\n",
       "      <td>Acinetobacter baumannii (strain 1295743)</td>\n",
       "      <td>269</td>\n",
       "      <td>3.2.2.-; 3.2.2.6</td>\n",
       "      <td>MSLEQKKGADIISKILQIQNSIGKTTSPSTLKTKLSEISRKEQENA...</td>\n",
       "      <td>2020-02-26</td>\n",
       "      <td>...</td>\n",
       "      <td>3</td>\n",
       "      <td>2</td>\n",
       "      <td>2</td>\n",
       "      <td>6</td>\n",
       "      <td>2</td>\n",
       "      <td>0</td>\n",
       "      <td>1</td>\n",
       "      <td>0</td>\n",
       "      <td>0</td>\n",
       "      <td>0</td>\n",
       "    </tr>\n",
       "    <tr>\n",
       "      <th>241688</th>\n",
       "      <td>A0A024SC78</td>\n",
       "      <td>reviewed</td>\n",
       "      <td>CUTI1_HYPJR</td>\n",
       "      <td>Cutinase (EC 3.1.1.74)</td>\n",
       "      <td>M419DRAFT_76732</td>\n",
       "      <td>Hypocrea jecorina (strain ATCC 56765 / BCRC 32...</td>\n",
       "      <td>248</td>\n",
       "      <td>3.1.1.74</td>\n",
       "      <td>MRSLAILTTLLAGHAFAYPKPAPQSVNRRDWPSINEFLSELAKVMP...</td>\n",
       "      <td>2022-05-25</td>\n",
       "      <td>...</td>\n",
       "      <td>3</td>\n",
       "      <td>1</td>\n",
       "      <td>1</td>\n",
       "      <td>74</td>\n",
       "      <td>1</td>\n",
       "      <td>0</td>\n",
       "      <td>1</td>\n",
       "      <td>0</td>\n",
       "      <td>0</td>\n",
       "      <td>0</td>\n",
       "    </tr>\n",
       "    <tr>\n",
       "      <th>241689</th>\n",
       "      <td>A0A024SH76</td>\n",
       "      <td>reviewed</td>\n",
       "      <td>GUX2_HYPJR</td>\n",
       "      <td>Exoglucanase 2 (EC 3.2.1.91) (1,4-beta-cellobi...</td>\n",
       "      <td>cbh2 M419DRAFT_122470</td>\n",
       "      <td>Hypocrea jecorina (strain ATCC 56765 / BCRC 32...</td>\n",
       "      <td>471</td>\n",
       "      <td>3.2.1.91</td>\n",
       "      <td>MIVGILTTLATLATLAASVPLEERQACSSVWGQCGGQNWSGPTCCA...</td>\n",
       "      <td>2017-08-30</td>\n",
       "      <td>...</td>\n",
       "      <td>3</td>\n",
       "      <td>2</td>\n",
       "      <td>1</td>\n",
       "      <td>91</td>\n",
       "      <td>1</td>\n",
       "      <td>0</td>\n",
       "      <td>1</td>\n",
       "      <td>0</td>\n",
       "      <td>0</td>\n",
       "      <td>0</td>\n",
       "    </tr>\n",
       "    <tr>\n",
       "      <th>241690</th>\n",
       "      <td>A0A059TC02</td>\n",
       "      <td>reviewed</td>\n",
       "      <td>CCR1_PETHY</td>\n",
       "      <td>Cinnamoyl-CoA reductase 1 (Ph-CCR1) (EC 1.2.1....</td>\n",
       "      <td>CCR1</td>\n",
       "      <td>Petunia hybrida (Petunia)</td>\n",
       "      <td>333</td>\n",
       "      <td>1.2.1.44</td>\n",
       "      <td>MRSVSGQVVCVTGAGGFIASWLVKILLEKGYTVRGTVRNPDDPKNG...</td>\n",
       "      <td>2020-12-02</td>\n",
       "      <td>...</td>\n",
       "      <td>1</td>\n",
       "      <td>2</td>\n",
       "      <td>1</td>\n",
       "      <td>44</td>\n",
       "      <td>1</td>\n",
       "      <td>0</td>\n",
       "      <td>1</td>\n",
       "      <td>0</td>\n",
       "      <td>0</td>\n",
       "      <td>0</td>\n",
       "    </tr>\n",
       "    <tr>\n",
       "      <th>241691</th>\n",
       "      <td>A0A061I403</td>\n",
       "      <td>reviewed</td>\n",
       "      <td>FICD_CRIGR</td>\n",
       "      <td>Protein adenylyltransferase FICD (EC 2.7.7.108...</td>\n",
       "      <td>FICD HYPE H671_4g11989 I79_014982</td>\n",
       "      <td>Cricetulus griseus (Chinese hamster) (Cricetul...</td>\n",
       "      <td>455</td>\n",
       "      <td>2.7.7.108; 3.1.4.-</td>\n",
       "      <td>MPMASVIAVAEPKWISVWGRFLWLTLLSMALGSLLALLLPLGAVEE...</td>\n",
       "      <td>2018-02-28</td>\n",
       "      <td>...</td>\n",
       "      <td>2</td>\n",
       "      <td>7</td>\n",
       "      <td>7</td>\n",
       "      <td>108</td>\n",
       "      <td>2</td>\n",
       "      <td>0</td>\n",
       "      <td>1</td>\n",
       "      <td>0</td>\n",
       "      <td>0</td>\n",
       "      <td>0</td>\n",
       "    </tr>\n",
       "  </tbody>\n",
       "</table>\n",
       "<p>5 rows × 27 columns</p>\n",
       "</div>"
      ],
      "text/plain": [
       "             Entry  Reviewed   Entry Name  \\\n",
       "241687  A0A009IHW8  reviewed  ABTIR_ACIB9   \n",
       "241688  A0A024SC78  reviewed  CUTI1_HYPJR   \n",
       "241689  A0A024SH76  reviewed   GUX2_HYPJR   \n",
       "241690  A0A059TC02  reviewed   CCR1_PETHY   \n",
       "241691  A0A061I403  reviewed   FICD_CRIGR   \n",
       "\n",
       "                                            Protein names  \\\n",
       "241687  2' cyclic ADP-D-ribose synthase AbTIR (2'cADPR...   \n",
       "241688                             Cutinase (EC 3.1.1.74)   \n",
       "241689  Exoglucanase 2 (EC 3.2.1.91) (1,4-beta-cellobi...   \n",
       "241690  Cinnamoyl-CoA reductase 1 (Ph-CCR1) (EC 1.2.1....   \n",
       "241691  Protein adenylyltransferase FICD (EC 2.7.7.108...   \n",
       "\n",
       "                               Gene Names  \\\n",
       "241687                          J512_3302   \n",
       "241688                    M419DRAFT_76732   \n",
       "241689              cbh2 M419DRAFT_122470   \n",
       "241690                               CCR1   \n",
       "241691  FICD HYPE H671_4g11989 I79_014982   \n",
       "\n",
       "                                                 Organism  Length  \\\n",
       "241687           Acinetobacter baumannii (strain 1295743)     269   \n",
       "241688  Hypocrea jecorina (strain ATCC 56765 / BCRC 32...     248   \n",
       "241689  Hypocrea jecorina (strain ATCC 56765 / BCRC 32...     471   \n",
       "241690                          Petunia hybrida (Petunia)     333   \n",
       "241691  Cricetulus griseus (Chinese hamster) (Cricetul...     455   \n",
       "\n",
       "                 EC number                                           Sequence  \\\n",
       "241687    3.2.2.-; 3.2.2.6  MSLEQKKGADIISKILQIQNSIGKTTSPSTLKTKLSEISRKEQENA...   \n",
       "241688            3.1.1.74  MRSLAILTTLLAGHAFAYPKPAPQSVNRRDWPSINEFLSELAKVMP...   \n",
       "241689            3.2.1.91  MIVGILTTLATLATLAASVPLEERQACSSVWGQCGGQNWSGPTCCA...   \n",
       "241690            1.2.1.44  MRSVSGQVVCVTGAGGFIASWLVKILLEKGYTVRGTVRNPDDPKNG...   \n",
       "241691  2.7.7.108; 3.1.4.-  MPMASVIAVAEPKWISVWGRFLWLTLLSMALGSLLALLLPLGAVEE...   \n",
       "\n",
       "       Date of creation  ... ec1  ec2 ec3  ec4 n_ec  cerevisiae lable  test  \\\n",
       "241687       2020-02-26  ...   3    2   2    6    2           0     1     0   \n",
       "241688       2022-05-25  ...   3    1   1   74    1           0     1     0   \n",
       "241689       2017-08-30  ...   3    2   1   91    1           0     1     0   \n",
       "241690       2020-12-02  ...   1    2   1   44    1           0     1     0   \n",
       "241691       2018-02-28  ...   2    7   7  108    2           0     1     0   \n",
       "\n",
       "       maya_prot maya_cluster  \n",
       "241687         0            0  \n",
       "241688         0            0  \n",
       "241689         0            0  \n",
       "241690         0            0  \n",
       "241691         0            0  \n",
       "\n",
       "[5 rows x 27 columns]"
      ]
     },
     "execution_count": 34,
     "metadata": {},
     "output_type": "execute_result"
    }
   ],
   "source": [
    "df[~df['EC number'].isna()].head()"
   ]
  },
  {
   "cell_type": "code",
   "execution_count": 32,
   "id": "87b117f0-7a68-482d-bfe1-2910432f00ce",
   "metadata": {},
   "outputs": [],
   "source": [
    "df=df[['Entry', 'Reviewed', 'Entry Name', 'Protein names', 'Gene Names',\n",
    "       'Organism', 'Length', 'EC number', 'Sequence', 'Date of creation',\n",
    "       'Date of last modification', 'Entry version',\n",
    "       'Date of last sequence modification', 'Sequence version',\n",
    "        'Function [CC]', 'Annotation', 'ec', 'ec1',\n",
    "       'ec2', 'ec3', 'ec4', 'n_ec', 'cerevisiae', 'lable', 'test', 'maya_prot',\n",
    "       'maya_cluster']]"
   ]
  },
  {
   "cell_type": "code",
   "execution_count": null,
   "id": "f0eddb72-6de9-4cf7-889d-17796b7e28e2",
   "metadata": {},
   "outputs": [],
   "source": [
    "cc=['Entry',]"
   ]
  },
  {
   "cell_type": "code",
   "execution_count": 11,
   "id": "e6d39184-5f8e-435d-8152-b7ab8b4f7e1a",
   "metadata": {},
   "outputs": [
    {
     "data": {
      "text/plain": [
       "lable\n",
       "0    241687\n",
       "1    217497\n",
       "Name: count, dtype: int64"
      ]
     },
     "execution_count": 11,
     "metadata": {},
     "output_type": "execute_result"
    }
   ],
   "source": [
    "df['lable'].value_counts()"
   ]
  },
  {
   "cell_type": "code",
   "execution_count": 12,
   "id": "e22002a0-302a-436f-8b57-24c3d27caf1f",
   "metadata": {},
   "outputs": [
    {
     "name": "stdout",
     "output_type": "stream",
     "text": [
      "<class 'pandas.core.frame.DataFrame'>\n",
      "Index: 217497 entries, 241687 to 459183\n",
      "Data columns (total 27 columns):\n",
      " #   Column                              Non-Null Count   Dtype  \n",
      "---  ------                              --------------   -----  \n",
      " 0   Entry                               217497 non-null  object \n",
      " 1   Reviewed                            217497 non-null  object \n",
      " 2   Entry Name                          217497 non-null  object \n",
      " 3   Protein names                       217497 non-null  object \n",
      " 4   Gene Names                          214338 non-null  object \n",
      " 5   Organism                            217497 non-null  object \n",
      " 6   Length                              217497 non-null  int64  \n",
      " 7   EC number                           217497 non-null  object \n",
      " 8   Sequence                            217497 non-null  object \n",
      " 9   Date of creation                    217497 non-null  object \n",
      " 10  Date of last modification           217497 non-null  object \n",
      " 11  Entry version                       217497 non-null  int64  \n",
      " 12  Date of last sequence modification  217497 non-null  object \n",
      " 13  Sequence version                    217497 non-null  int64  \n",
      " 14  Function [CC]                       191651 non-null  object \n",
      " 15  Annotation                          217497 non-null  float64\n",
      " 16  ec                                  217497 non-null  object \n",
      " 17  ec1                                 217497 non-null  int64  \n",
      " 18  ec2                                 217497 non-null  object \n",
      " 19  ec3                                 217497 non-null  object \n",
      " 20  ec4                                 217497 non-null  object \n",
      " 21  n_ec                                217497 non-null  int64  \n",
      " 22  cerevisiae                          217497 non-null  int64  \n",
      " 23  lable                               217497 non-null  int64  \n",
      " 24  test                                217497 non-null  int64  \n",
      " 25  maya_prot                           217497 non-null  int64  \n",
      " 26  maya_cluster                        217497 non-null  int64  \n",
      "dtypes: float64(1), int64(10), object(16)\n",
      "memory usage: 46.5+ MB\n"
     ]
    }
   ],
   "source": [
    "df[df.lable==1].info()"
   ]
  },
  {
   "cell_type": "code",
   "execution_count": 13,
   "id": "e9416662-a36f-4edc-95fc-a82929bff8b8",
   "metadata": {},
   "outputs": [
    {
     "data": {
      "text/plain": [
       "maya_prot\n",
       "0    457945\n",
       "1      1239\n",
       "Name: count, dtype: int64"
      ]
     },
     "execution_count": 13,
     "metadata": {},
     "output_type": "execute_result"
    }
   ],
   "source": [
    "\n",
    "df.maya_prot.value_counts()"
   ]
  },
  {
   "cell_type": "code",
   "execution_count": 14,
   "id": "c8ff0a98-368b-4d60-9918-2b0d8b0b484d",
   "metadata": {},
   "outputs": [
    {
     "data": {
      "text/plain": [
       "maya_cluster\n",
       "0    457004\n",
       "1      2180\n",
       "Name: count, dtype: int64"
      ]
     },
     "execution_count": 14,
     "metadata": {},
     "output_type": "execute_result"
    }
   ],
   "source": [
    "\n",
    "df.maya_cluster.value_counts()"
   ]
  },
  {
   "cell_type": "code",
   "execution_count": 15,
   "id": "0e2e0b29-3ad7-46f6-83d8-067b74c41702",
   "metadata": {},
   "outputs": [
    {
     "data": {
      "text/plain": [
       "Reviewed\n",
       "reviewed    459184\n",
       "Name: count, dtype: int64"
      ]
     },
     "execution_count": 15,
     "metadata": {},
     "output_type": "execute_result"
    }
   ],
   "source": [
    "df.Reviewed.value_counts()"
   ]
  },
  {
   "cell_type": "code",
   "execution_count": 16,
   "id": "91577fbc-7bb1-4982-9650-3e4bc6a7143b",
   "metadata": {},
   "outputs": [
    {
     "data": {
      "text/plain": [
       "test\n",
       "0    455901\n",
       "3      1239\n",
       "1      1032\n",
       "2      1012\n",
       "Name: count, dtype: int64"
      ]
     },
     "execution_count": 16,
     "metadata": {},
     "output_type": "execute_result"
    }
   ],
   "source": [
    "### 3 marks Mayas proteins\n",
    "df.test.value_counts()"
   ]
  },
  {
   "cell_type": "code",
   "execution_count": 17,
   "id": "c6984680-247e-4771-be3d-db25a5c58bdb",
   "metadata": {
    "scrolled": true
   },
   "outputs": [],
   "source": [
    "df_maya=pd.read_csv('../df_maya_with_pred_enzyme_and_first_ec.csv')\n",
    "\n",
    "for i,row in df_maya.iterrows():\n",
    "    tt=df[df.Entry==row['Entry']]\n",
    "    if len(tt)>0 and tt.test.values[0]!=3:\n",
    "    \n",
    "        print(tt[['test','Entry','ec']])"
   ]
  },
  {
   "cell_type": "code",
   "execution_count": 18,
   "id": "cd1b836a-4b9c-4965-b640-f65cccfc73a9",
   "metadata": {},
   "outputs": [
    {
     "name": "stdout",
     "output_type": "stream",
     "text": [
      "<class 'pandas.core.frame.DataFrame'>\n",
      "RangeIndex: 1932 entries, 0 to 1931\n",
      "Data columns (total 14 columns):\n",
      " #   Column            Non-Null Count  Dtype  \n",
      "---  ------            --------------  -----  \n",
      " 0   Entry             1932 non-null   object \n",
      " 1   Entry Name        1932 non-null   object \n",
      " 2   sequence          1932 non-null   object \n",
      " 3   BRENDA            40 non-null     object \n",
      " 4   EC number         385 non-null    object \n",
      " 5   Reviewed          1932 non-null   object \n",
      " 6   Annotation        1932 non-null   float64\n",
      " 7   len               1932 non-null   int64  \n",
      " 8   less_512          1932 non-null   int64  \n",
      " 9   pred_is_enzyme    1932 non-null   float64\n",
      " 10  pred_cls_enzyme   1932 non-null   int64  \n",
      " 11  has_EC            1932 non-null   int64  \n",
      " 12  Organism          1650 non-null   object \n",
      " 13  pred_ec1f_v0_cls  1932 non-null   int64  \n",
      "dtypes: float64(2), int64(5), object(7)\n",
      "memory usage: 211.4+ KB\n"
     ]
    }
   ],
   "source": [
    "df_maya.info()"
   ]
  },
  {
   "cell_type": "code",
   "execution_count": 23,
   "id": "b8a773db-47e7-4130-a062-2c3a9491dd70",
   "metadata": {},
   "outputs": [
    {
     "name": "stderr",
     "output_type": "stream",
     "text": [
      "C:\\Users\\naomi\\AppData\\Local\\Temp\\ipykernel_55484\\4230978315.py:1: UserWarning: Boolean Series key will be reindexed to match DataFrame index.\n",
      "  df_maya[df_maya.has_EC==1][df_maya.len<200]\n"
     ]
    },
    {
     "data": {
      "text/html": [
       "<div>\n",
       "<style scoped>\n",
       "    .dataframe tbody tr th:only-of-type {\n",
       "        vertical-align: middle;\n",
       "    }\n",
       "\n",
       "    .dataframe tbody tr th {\n",
       "        vertical-align: top;\n",
       "    }\n",
       "\n",
       "    .dataframe thead th {\n",
       "        text-align: right;\n",
       "    }\n",
       "</style>\n",
       "<table border=\"1\" class=\"dataframe\">\n",
       "  <thead>\n",
       "    <tr style=\"text-align: right;\">\n",
       "      <th></th>\n",
       "      <th>Entry</th>\n",
       "      <th>Entry Name</th>\n",
       "      <th>sequence</th>\n",
       "      <th>BRENDA</th>\n",
       "      <th>EC number</th>\n",
       "      <th>Reviewed</th>\n",
       "      <th>Annotation</th>\n",
       "      <th>len</th>\n",
       "      <th>less_512</th>\n",
       "      <th>pred_is_enzyme</th>\n",
       "      <th>pred_cls_enzyme</th>\n",
       "      <th>has_EC</th>\n",
       "      <th>Organism</th>\n",
       "      <th>pred_ec1f_v0_cls</th>\n",
       "    </tr>\n",
       "  </thead>\n",
       "  <tbody>\n",
       "    <tr>\n",
       "      <th>35</th>\n",
       "      <td>P40892</td>\n",
       "      <td>YJV8_YEAST</td>\n",
       "      <td>MGVLENIVPGELYDANYDPDLLKIRKETKIKLHEYNTLSPADENKK...</td>\n",
       "      <td>NaN</td>\n",
       "      <td>2.3.1.-</td>\n",
       "      <td>reviewed</td>\n",
       "      <td>2.0</td>\n",
       "      <td>196</td>\n",
       "      <td>1</td>\n",
       "      <td>0.938053</td>\n",
       "      <td>1</td>\n",
       "      <td>1</td>\n",
       "      <td>NaN</td>\n",
       "      <td>2</td>\n",
       "    </tr>\n",
       "    <tr>\n",
       "      <th>61</th>\n",
       "      <td>Q08361</td>\n",
       "      <td>AAD15_YEAST</td>\n",
       "      <td>MARHFGMALAPWDVMGGGRFQSKKAMEERRKNGECIRSFVGASEQT...</td>\n",
       "      <td>NaN</td>\n",
       "      <td>1.1.1.-</td>\n",
       "      <td>reviewed</td>\n",
       "      <td>2.0</td>\n",
       "      <td>143</td>\n",
       "      <td>1</td>\n",
       "      <td>0.735916</td>\n",
       "      <td>1</td>\n",
       "      <td>1</td>\n",
       "      <td>NaN</td>\n",
       "      <td>0</td>\n",
       "    </tr>\n",
       "    <tr>\n",
       "      <th>140</th>\n",
       "      <td>Q12378</td>\n",
       "      <td>RTR2_YEAST</td>\n",
       "      <td>MQIITTTFIQKVILGSHQLHEQLSIVEARMIESAIVSMLTESFCEN...</td>\n",
       "      <td>NaN</td>\n",
       "      <td>3.1.3.16</td>\n",
       "      <td>reviewed</td>\n",
       "      <td>4.0</td>\n",
       "      <td>196</td>\n",
       "      <td>1</td>\n",
       "      <td>0.051687</td>\n",
       "      <td>0</td>\n",
       "      <td>1</td>\n",
       "      <td>NaN</td>\n",
       "      <td>0</td>\n",
       "    </tr>\n",
       "    <tr>\n",
       "      <th>149</th>\n",
       "      <td>Q03786</td>\n",
       "      <td>GNTK_YEAST</td>\n",
       "      <td>MTEKHKTMGKFKVIVLAGTAGTGKSTIAGELIHEFKDIYPDLKFIE...</td>\n",
       "      <td>NaN</td>\n",
       "      <td>2.7.1.12</td>\n",
       "      <td>reviewed</td>\n",
       "      <td>3.0</td>\n",
       "      <td>193</td>\n",
       "      <td>1</td>\n",
       "      <td>0.872236</td>\n",
       "      <td>1</td>\n",
       "      <td>1</td>\n",
       "      <td>NaN</td>\n",
       "      <td>2</td>\n",
       "    </tr>\n",
       "    <tr>\n",
       "      <th>205</th>\n",
       "      <td>P36141</td>\n",
       "      <td>FMP46_YEAST</td>\n",
       "      <td>MSFWKTLQRQPRTISLFTNDIASNIKSQKCLQLLKGDVSHRFDVEI...</td>\n",
       "      <td>NaN</td>\n",
       "      <td>1.-.-.-</td>\n",
       "      <td>reviewed</td>\n",
       "      <td>3.0</td>\n",
       "      <td>133</td>\n",
       "      <td>1</td>\n",
       "      <td>0.077027</td>\n",
       "      <td>0</td>\n",
       "      <td>1</td>\n",
       "      <td>NaN</td>\n",
       "      <td>0</td>\n",
       "    </tr>\n",
       "    <tr>\n",
       "      <th>206</th>\n",
       "      <td>P38744</td>\n",
       "      <td>PHS_YEAST</td>\n",
       "      <td>MHNKIVRIASSALTGGKLLEKLKPLTRWEVQWDPNKTKCLGITREV...</td>\n",
       "      <td>NaN</td>\n",
       "      <td>4.2.1.96</td>\n",
       "      <td>reviewed</td>\n",
       "      <td>2.0</td>\n",
       "      <td>120</td>\n",
       "      <td>1</td>\n",
       "      <td>0.977791</td>\n",
       "      <td>1</td>\n",
       "      <td>1</td>\n",
       "      <td>NaN</td>\n",
       "      <td>0</td>\n",
       "    </tr>\n",
       "    <tr>\n",
       "      <th>222</th>\n",
       "      <td>Q96VH4</td>\n",
       "      <td>HBN1_YEAST</td>\n",
       "      <td>MSAVATYLKTLTARRTIYALKPELPGEITINDIQSVVQTIIKETPT...</td>\n",
       "      <td>NaN</td>\n",
       "      <td>1.-.-.-</td>\n",
       "      <td>reviewed</td>\n",
       "      <td>2.0</td>\n",
       "      <td>193</td>\n",
       "      <td>1</td>\n",
       "      <td>0.936520</td>\n",
       "      <td>1</td>\n",
       "      <td>1</td>\n",
       "      <td>NaN</td>\n",
       "      <td>0</td>\n",
       "    </tr>\n",
       "    <tr>\n",
       "      <th>413</th>\n",
       "      <td>P25338</td>\n",
       "      <td>MPO1_YEAST</td>\n",
       "      <td>MGEGLLDLRSQLGFYKFYHHNPKNVLIHSIFVPTILFSGSCMLHRV...</td>\n",
       "      <td>NaN</td>\n",
       "      <td>1.14.18.12</td>\n",
       "      <td>reviewed</td>\n",
       "      <td>4.0</td>\n",
       "      <td>174</td>\n",
       "      <td>1</td>\n",
       "      <td>0.130711</td>\n",
       "      <td>0</td>\n",
       "      <td>1</td>\n",
       "      <td>Saccharomyces cerevisiae (strain ATCC 204508 /...</td>\n",
       "      <td>0</td>\n",
       "    </tr>\n",
       "    <tr>\n",
       "      <th>566</th>\n",
       "      <td>P36141</td>\n",
       "      <td>FMP46_YEAST</td>\n",
       "      <td>MSFWKTLQRQPRTISLFTNDIASNIKSQKCLQLLKGDVSHRFDVEI...</td>\n",
       "      <td>NaN</td>\n",
       "      <td>1.-.-.-</td>\n",
       "      <td>reviewed</td>\n",
       "      <td>3.0</td>\n",
       "      <td>133</td>\n",
       "      <td>1</td>\n",
       "      <td>0.077027</td>\n",
       "      <td>0</td>\n",
       "      <td>1</td>\n",
       "      <td>Saccharomyces cerevisiae (strain ATCC 204508 /...</td>\n",
       "      <td>0</td>\n",
       "    </tr>\n",
       "    <tr>\n",
       "      <th>578</th>\n",
       "      <td>P36973</td>\n",
       "      <td>APT2_YEAST</td>\n",
       "      <td>MSISESYAKEIKTAFRQFTDFPIEGEQFEDFLPIIGNPTLFQKLVH...</td>\n",
       "      <td>NaN</td>\n",
       "      <td>2.4.2.7</td>\n",
       "      <td>reviewed</td>\n",
       "      <td>3.0</td>\n",
       "      <td>181</td>\n",
       "      <td>1</td>\n",
       "      <td>0.980954</td>\n",
       "      <td>1</td>\n",
       "      <td>1</td>\n",
       "      <td>Saccharomyces cerevisiae (strain ATCC 204508 /...</td>\n",
       "      <td>2</td>\n",
       "    </tr>\n",
       "    <tr>\n",
       "      <th>680</th>\n",
       "      <td>P38744</td>\n",
       "      <td>PHS_YEAST</td>\n",
       "      <td>MHNKIVRIASSALTGGKLLEKLKPLTRWEVQWDPNKTKCLGITREV...</td>\n",
       "      <td>NaN</td>\n",
       "      <td>4.2.1.96</td>\n",
       "      <td>reviewed</td>\n",
       "      <td>2.0</td>\n",
       "      <td>120</td>\n",
       "      <td>1</td>\n",
       "      <td>0.977791</td>\n",
       "      <td>1</td>\n",
       "      <td>1</td>\n",
       "      <td>Saccharomyces cerevisiae (strain ATCC 204508 /...</td>\n",
       "      <td>0</td>\n",
       "    </tr>\n",
       "    <tr>\n",
       "      <th>835</th>\n",
       "      <td>P40347</td>\n",
       "      <td>PPAL_YEAST</td>\n",
       "      <td>MTIEKPKISVAFICLGNFCRSPMAEAIFKHEVEKANLENRFNKIDS...</td>\n",
       "      <td>3.1.3.48;</td>\n",
       "      <td>3.1.3.2; 3.1.3.48</td>\n",
       "      <td>reviewed</td>\n",
       "      <td>5.0</td>\n",
       "      <td>161</td>\n",
       "      <td>1</td>\n",
       "      <td>0.934599</td>\n",
       "      <td>1</td>\n",
       "      <td>1</td>\n",
       "      <td>Saccharomyces cerevisiae (strain ATCC 204508 /...</td>\n",
       "      <td>3</td>\n",
       "    </tr>\n",
       "    <tr>\n",
       "      <th>889</th>\n",
       "      <td>P40892</td>\n",
       "      <td>YJV8_YEAST</td>\n",
       "      <td>MGVLENIVPGELYDANYDPDLLKIRKETKIKLHEYNTLSPADENKK...</td>\n",
       "      <td>NaN</td>\n",
       "      <td>2.3.1.-</td>\n",
       "      <td>reviewed</td>\n",
       "      <td>2.0</td>\n",
       "      <td>196</td>\n",
       "      <td>1</td>\n",
       "      <td>0.938053</td>\n",
       "      <td>1</td>\n",
       "      <td>1</td>\n",
       "      <td>Saccharomyces cerevisiae (strain ATCC 204508 /...</td>\n",
       "      <td>2</td>\n",
       "    </tr>\n",
       "    <tr>\n",
       "      <th>1304</th>\n",
       "      <td>Q03786</td>\n",
       "      <td>GNTK_YEAST</td>\n",
       "      <td>MTEKHKTMGKFKVIVLAGTAGTGKSTIAGELIHEFKDIYPDLKFIE...</td>\n",
       "      <td>NaN</td>\n",
       "      <td>2.7.1.12</td>\n",
       "      <td>reviewed</td>\n",
       "      <td>3.0</td>\n",
       "      <td>193</td>\n",
       "      <td>1</td>\n",
       "      <td>0.872236</td>\n",
       "      <td>1</td>\n",
       "      <td>1</td>\n",
       "      <td>Saccharomyces cerevisiae (strain ATCC 204508 /...</td>\n",
       "      <td>2</td>\n",
       "    </tr>\n",
       "    <tr>\n",
       "      <th>1549</th>\n",
       "      <td>Q08361</td>\n",
       "      <td>AAD15_YEAST</td>\n",
       "      <td>MARHFGMALAPWDVMGGGRFQSKKAMEERRKNGECIRSFVGASEQT...</td>\n",
       "      <td>NaN</td>\n",
       "      <td>1.1.1.-</td>\n",
       "      <td>reviewed</td>\n",
       "      <td>2.0</td>\n",
       "      <td>143</td>\n",
       "      <td>1</td>\n",
       "      <td>0.735916</td>\n",
       "      <td>1</td>\n",
       "      <td>1</td>\n",
       "      <td>Saccharomyces cerevisiae (strain ATCC 204508 /...</td>\n",
       "      <td>0</td>\n",
       "    </tr>\n",
       "    <tr>\n",
       "      <th>1703</th>\n",
       "      <td>Q12378</td>\n",
       "      <td>RTR2_YEAST</td>\n",
       "      <td>MQIITTTFIQKVILGSHQLHEQLSIVEARMIESAIVSMLTESFCEN...</td>\n",
       "      <td>NaN</td>\n",
       "      <td>3.1.3.16</td>\n",
       "      <td>reviewed</td>\n",
       "      <td>4.0</td>\n",
       "      <td>196</td>\n",
       "      <td>1</td>\n",
       "      <td>0.051687</td>\n",
       "      <td>0</td>\n",
       "      <td>1</td>\n",
       "      <td>Saccharomyces cerevisiae (strain ATCC 204508 /...</td>\n",
       "      <td>0</td>\n",
       "    </tr>\n",
       "    <tr>\n",
       "      <th>1917</th>\n",
       "      <td>Q96VH4</td>\n",
       "      <td>HBN1_YEAST</td>\n",
       "      <td>MSAVATYLKTLTARRTIYALKPELPGEITINDIQSVVQTIIKETPT...</td>\n",
       "      <td>NaN</td>\n",
       "      <td>1.-.-.-</td>\n",
       "      <td>reviewed</td>\n",
       "      <td>2.0</td>\n",
       "      <td>193</td>\n",
       "      <td>1</td>\n",
       "      <td>0.936520</td>\n",
       "      <td>1</td>\n",
       "      <td>1</td>\n",
       "      <td>Saccharomyces cerevisiae (strain ATCC 204508 /...</td>\n",
       "      <td>0</td>\n",
       "    </tr>\n",
       "    <tr>\n",
       "      <th>1931</th>\n",
       "      <td>P43546</td>\n",
       "      <td>YFL57_YEAST</td>\n",
       "      <td>MARHFGMALAPWDVMGGGRFQSKKAMEERRKNGEGIRSFVGASEQT...</td>\n",
       "      <td>NaN</td>\n",
       "      <td>1.1.1.-</td>\n",
       "      <td>reviewed</td>\n",
       "      <td>2.0</td>\n",
       "      <td>152</td>\n",
       "      <td>1</td>\n",
       "      <td>0.830078</td>\n",
       "      <td>1</td>\n",
       "      <td>1</td>\n",
       "      <td>Saccharomyces cerevisiae (strain ATCC 204508 /...</td>\n",
       "      <td>0</td>\n",
       "    </tr>\n",
       "  </tbody>\n",
       "</table>\n",
       "</div>"
      ],
      "text/plain": [
       "       Entry   Entry Name                                           sequence  \\\n",
       "35    P40892   YJV8_YEAST  MGVLENIVPGELYDANYDPDLLKIRKETKIKLHEYNTLSPADENKK...   \n",
       "61    Q08361  AAD15_YEAST  MARHFGMALAPWDVMGGGRFQSKKAMEERRKNGECIRSFVGASEQT...   \n",
       "140   Q12378   RTR2_YEAST  MQIITTTFIQKVILGSHQLHEQLSIVEARMIESAIVSMLTESFCEN...   \n",
       "149   Q03786   GNTK_YEAST  MTEKHKTMGKFKVIVLAGTAGTGKSTIAGELIHEFKDIYPDLKFIE...   \n",
       "205   P36141  FMP46_YEAST  MSFWKTLQRQPRTISLFTNDIASNIKSQKCLQLLKGDVSHRFDVEI...   \n",
       "206   P38744    PHS_YEAST  MHNKIVRIASSALTGGKLLEKLKPLTRWEVQWDPNKTKCLGITREV...   \n",
       "222   Q96VH4   HBN1_YEAST  MSAVATYLKTLTARRTIYALKPELPGEITINDIQSVVQTIIKETPT...   \n",
       "413   P25338   MPO1_YEAST  MGEGLLDLRSQLGFYKFYHHNPKNVLIHSIFVPTILFSGSCMLHRV...   \n",
       "566   P36141  FMP46_YEAST  MSFWKTLQRQPRTISLFTNDIASNIKSQKCLQLLKGDVSHRFDVEI...   \n",
       "578   P36973   APT2_YEAST  MSISESYAKEIKTAFRQFTDFPIEGEQFEDFLPIIGNPTLFQKLVH...   \n",
       "680   P38744    PHS_YEAST  MHNKIVRIASSALTGGKLLEKLKPLTRWEVQWDPNKTKCLGITREV...   \n",
       "835   P40347   PPAL_YEAST  MTIEKPKISVAFICLGNFCRSPMAEAIFKHEVEKANLENRFNKIDS...   \n",
       "889   P40892   YJV8_YEAST  MGVLENIVPGELYDANYDPDLLKIRKETKIKLHEYNTLSPADENKK...   \n",
       "1304  Q03786   GNTK_YEAST  MTEKHKTMGKFKVIVLAGTAGTGKSTIAGELIHEFKDIYPDLKFIE...   \n",
       "1549  Q08361  AAD15_YEAST  MARHFGMALAPWDVMGGGRFQSKKAMEERRKNGECIRSFVGASEQT...   \n",
       "1703  Q12378   RTR2_YEAST  MQIITTTFIQKVILGSHQLHEQLSIVEARMIESAIVSMLTESFCEN...   \n",
       "1917  Q96VH4   HBN1_YEAST  MSAVATYLKTLTARRTIYALKPELPGEITINDIQSVVQTIIKETPT...   \n",
       "1931  P43546  YFL57_YEAST  MARHFGMALAPWDVMGGGRFQSKKAMEERRKNGEGIRSFVGASEQT...   \n",
       "\n",
       "         BRENDA          EC number  Reviewed  Annotation  len  less_512  \\\n",
       "35          NaN            2.3.1.-  reviewed         2.0  196         1   \n",
       "61          NaN            1.1.1.-  reviewed         2.0  143         1   \n",
       "140         NaN           3.1.3.16  reviewed         4.0  196         1   \n",
       "149         NaN           2.7.1.12  reviewed         3.0  193         1   \n",
       "205         NaN            1.-.-.-  reviewed         3.0  133         1   \n",
       "206         NaN           4.2.1.96  reviewed         2.0  120         1   \n",
       "222         NaN            1.-.-.-  reviewed         2.0  193         1   \n",
       "413         NaN         1.14.18.12  reviewed         4.0  174         1   \n",
       "566         NaN            1.-.-.-  reviewed         3.0  133         1   \n",
       "578         NaN            2.4.2.7  reviewed         3.0  181         1   \n",
       "680         NaN           4.2.1.96  reviewed         2.0  120         1   \n",
       "835   3.1.3.48;  3.1.3.2; 3.1.3.48  reviewed         5.0  161         1   \n",
       "889         NaN            2.3.1.-  reviewed         2.0  196         1   \n",
       "1304        NaN           2.7.1.12  reviewed         3.0  193         1   \n",
       "1549        NaN            1.1.1.-  reviewed         2.0  143         1   \n",
       "1703        NaN           3.1.3.16  reviewed         4.0  196         1   \n",
       "1917        NaN            1.-.-.-  reviewed         2.0  193         1   \n",
       "1931        NaN            1.1.1.-  reviewed         2.0  152         1   \n",
       "\n",
       "      pred_is_enzyme  pred_cls_enzyme  has_EC  \\\n",
       "35          0.938053                1       1   \n",
       "61          0.735916                1       1   \n",
       "140         0.051687                0       1   \n",
       "149         0.872236                1       1   \n",
       "205         0.077027                0       1   \n",
       "206         0.977791                1       1   \n",
       "222         0.936520                1       1   \n",
       "413         0.130711                0       1   \n",
       "566         0.077027                0       1   \n",
       "578         0.980954                1       1   \n",
       "680         0.977791                1       1   \n",
       "835         0.934599                1       1   \n",
       "889         0.938053                1       1   \n",
       "1304        0.872236                1       1   \n",
       "1549        0.735916                1       1   \n",
       "1703        0.051687                0       1   \n",
       "1917        0.936520                1       1   \n",
       "1931        0.830078                1       1   \n",
       "\n",
       "                                               Organism  pred_ec1f_v0_cls  \n",
       "35                                                  NaN                 2  \n",
       "61                                                  NaN                 0  \n",
       "140                                                 NaN                 0  \n",
       "149                                                 NaN                 2  \n",
       "205                                                 NaN                 0  \n",
       "206                                                 NaN                 0  \n",
       "222                                                 NaN                 0  \n",
       "413   Saccharomyces cerevisiae (strain ATCC 204508 /...                 0  \n",
       "566   Saccharomyces cerevisiae (strain ATCC 204508 /...                 0  \n",
       "578   Saccharomyces cerevisiae (strain ATCC 204508 /...                 2  \n",
       "680   Saccharomyces cerevisiae (strain ATCC 204508 /...                 0  \n",
       "835   Saccharomyces cerevisiae (strain ATCC 204508 /...                 3  \n",
       "889   Saccharomyces cerevisiae (strain ATCC 204508 /...                 2  \n",
       "1304  Saccharomyces cerevisiae (strain ATCC 204508 /...                 2  \n",
       "1549  Saccharomyces cerevisiae (strain ATCC 204508 /...                 0  \n",
       "1703  Saccharomyces cerevisiae (strain ATCC 204508 /...                 0  \n",
       "1917  Saccharomyces cerevisiae (strain ATCC 204508 /...                 0  \n",
       "1931  Saccharomyces cerevisiae (strain ATCC 204508 /...                 0  "
      ]
     },
     "execution_count": 23,
     "metadata": {},
     "output_type": "execute_result"
    }
   ],
   "source": [
    "df_maya[df_maya.has_EC==1][df_maya.len<200]"
   ]
  },
  {
   "cell_type": "code",
   "execution_count": 26,
   "id": "33979814-7c41-448c-a87f-6adaeef79b5a",
   "metadata": {},
   "outputs": [
    {
     "data": {
      "text/plain": [
       "Entry                                                          P38744\n",
       "Entry Name                                                  PHS_YEAST\n",
       "sequence            MHNKIVRIASSALTGGKLLEKLKPLTRWEVQWDPNKTKCLGITREV...\n",
       "BRENDA                                                            NaN\n",
       "EC number                                                    4.2.1.96\n",
       "Reviewed                                                     reviewed\n",
       "Annotation                                                        2.0\n",
       "len                                                               120\n",
       "less_512                                                            1\n",
       "pred_is_enzyme                                               0.977791\n",
       "pred_cls_enzyme                                                     1\n",
       "has_EC                                                              1\n",
       "Organism                                                          NaN\n",
       "pred_ec1f_v0_cls                                                    0\n",
       "Name: 206, dtype: object"
      ]
     },
     "execution_count": 26,
     "metadata": {},
     "output_type": "execute_result"
    }
   ],
   "source": [
    "df_maya.loc[206]"
   ]
  },
  {
   "cell_type": "code",
   "execution_count": 27,
   "id": "f00351e3-6ccb-42f9-b233-072a74035f50",
   "metadata": {},
   "outputs": [
    {
     "data": {
      "text/plain": [
       "Entry                                                          Q03786\n",
       "Entry Name                                                 GNTK_YEAST\n",
       "sequence            MTEKHKTMGKFKVIVLAGTAGTGKSTIAGELIHEFKDIYPDLKFIE...\n",
       "BRENDA                                                            NaN\n",
       "EC number                                                    2.7.1.12\n",
       "Reviewed                                                     reviewed\n",
       "Annotation                                                        3.0\n",
       "len                                                               193\n",
       "less_512                                                            1\n",
       "pred_is_enzyme                                               0.872236\n",
       "pred_cls_enzyme                                                     1\n",
       "has_EC                                                              1\n",
       "Organism                                                          NaN\n",
       "pred_ec1f_v0_cls                                                    2\n",
       "Name: 149, dtype: object"
      ]
     },
     "execution_count": 27,
     "metadata": {},
     "output_type": "execute_result"
    }
   ],
   "source": [
    "df_maya.loc[149]"
   ]
  },
  {
   "cell_type": "code",
   "execution_count": 28,
   "id": "5039e3be-ff73-4280-8f16-f97d9b2aae09",
   "metadata": {},
   "outputs": [
    {
     "data": {
      "text/plain": [
       "'MTEKHKTMGKFKVIVLAGTAGTGKSTIAGELIHEFKDIYPDLKFIEGDDLHPPANVEKMTRGIPLNDDDRWDWLKKVAVESTKAAASTKEHLSIVACSSLKKKYRDLIRHTCPESEFHFIFLYASKIEVLKRLKTRKGHFMKADMMESQFRDLELPDINDETDCDIVPLDFKTFYQIEKDVIQVVKSKVLNIE'"
      ]
     },
     "execution_count": 28,
     "metadata": {},
     "output_type": "execute_result"
    }
   ],
   "source": [
    "df_maya.loc[149].sequence"
   ]
  },
  {
   "cell_type": "code",
   "execution_count": 13,
   "id": "4c03ab99-4aed-4678-9368-cf184cdbe059",
   "metadata": {},
   "outputs": [
    {
     "data": {
      "text/plain": [
       "less_512\n",
       "1    1441\n",
       "0     491\n",
       "Name: count, dtype: int64"
      ]
     },
     "execution_count": 13,
     "metadata": {},
     "output_type": "execute_result"
    }
   ],
   "source": [
    "df_maya.less_512.value_counts()"
   ]
  },
  {
   "cell_type": "code",
   "execution_count": 14,
   "id": "5f4be1cb-0168-45d9-bda2-e694c6f9fd88",
   "metadata": {},
   "outputs": [
    {
     "data": {
      "text/plain": [
       "has_EC\n",
       "0    1547\n",
       "1     385\n",
       "Name: count, dtype: int64"
      ]
     },
     "execution_count": 14,
     "metadata": {},
     "output_type": "execute_result"
    }
   ],
   "source": [
    "df_maya.has_EC.value_counts()"
   ]
  },
  {
   "cell_type": "code",
   "execution_count": 15,
   "id": "7412bc5a-6090-48a5-befe-d475a83efad3",
   "metadata": {},
   "outputs": [
    {
     "data": {
      "text/plain": [
       "pred_cls_enzyme\n",
       "0    1453\n",
       "1     479\n",
       "Name: count, dtype: int64"
      ]
     },
     "execution_count": 15,
     "metadata": {},
     "output_type": "execute_result"
    }
   ],
   "source": [
    "df_maya.pred_cls_enzyme.value_counts()"
   ]
  },
  {
   "cell_type": "code",
   "execution_count": 16,
   "id": "f6c2b5c1-dc51-4736-93a3-2f205b2a1e7b",
   "metadata": {},
   "outputs": [
    {
     "data": {
      "text/plain": [
       "pred_cls_enzyme\n",
       "0    1453\n",
       "1     479\n",
       "Name: count, dtype: int64"
      ]
     },
     "execution_count": 16,
     "metadata": {},
     "output_type": "execute_result"
    }
   ],
   "source": [
    "df_maya.pred_cls_enzyme.value_counts()"
   ]
  },
  {
   "cell_type": "code",
   "execution_count": 17,
   "id": "1a64ab50-80bf-4999-8076-25f1845f724d",
   "metadata": {},
   "outputs": [
    {
     "data": {
      "text/plain": [
       "pred_ec1f_v0_cls\n",
       "0    1517\n",
       "3     159\n",
       "2     119\n",
       "1      77\n",
       "4      24\n",
       "5      14\n",
       "6      13\n",
       "7       9\n",
       "Name: count, dtype: int64"
      ]
     },
     "execution_count": 17,
     "metadata": {},
     "output_type": "execute_result"
    }
   ],
   "source": [
    "df_maya.pred_ec1f_v0_cls.value_counts()"
   ]
  },
  {
   "cell_type": "markdown",
   "id": "3c0e43fe-9cb3-4f63-96dd-b5b909328d08",
   "metadata": {},
   "source": [
    "# Predicting"
   ]
  },
  {
   "cell_type": "code",
   "execution_count": 18,
   "id": "f8435b91-11d6-4bbd-8b57-794813dcfc20",
   "metadata": {},
   "outputs": [
    {
     "data": {
      "text/plain": [
       "device(type='cuda')"
      ]
     },
     "execution_count": 18,
     "metadata": {},
     "output_type": "execute_result"
    }
   ],
   "source": [
    "import torch\n",
    "# Set the  device to use\n",
    "device = torch.device('cuda') if torch.cuda.is_available() else torch.device('cpu')\n",
    "device"
   ]
  },
  {
   "cell_type": "code",
   "execution_count": 19,
   "id": "b839580d-793d-499b-aa77-3e6f016866ee",
   "metadata": {},
   "outputs": [],
   "source": [
    "import torch"
   ]
  },
  {
   "cell_type": "code",
   "execution_count": 20,
   "id": "1121759c-9c1c-43c3-a34c-af8fc4008638",
   "metadata": {},
   "outputs": [],
   "source": [
    "model_checkpoint = \"facebook/esm2_t12_35M_UR50D\"\n",
    "from transformers import AutoTokenizer"
   ]
  },
  {
   "cell_type": "code",
   "execution_count": 21,
   "id": "371285cc-9571-4416-95ac-7504efa7202d",
   "metadata": {},
   "outputs": [
    {
     "name": "stderr",
     "output_type": "stream",
     "text": [
      "Some weights of EsmForSequenceClassification were not initialized from the model checkpoint at facebook/esm2_t12_35M_UR50D and are newly initialized: ['classifier.dense.bias', 'classifier.dense.weight', 'classifier.out_proj.bias', 'classifier.out_proj.weight']\n",
      "You should probably TRAIN this model on a down-stream task to be able to use it for predictions and inference.\n"
     ]
    },
    {
     "data": {
      "text/plain": [
       "EsmForSequenceClassification(\n",
       "  (esm): EsmModel(\n",
       "    (embeddings): EsmEmbeddings(\n",
       "      (word_embeddings): Embedding(33, 480, padding_idx=1)\n",
       "      (dropout): Dropout(p=0.0, inplace=False)\n",
       "      (position_embeddings): Embedding(1026, 480, padding_idx=1)\n",
       "    )\n",
       "    (encoder): EsmEncoder(\n",
       "      (layer): ModuleList(\n",
       "        (0-11): 12 x EsmLayer(\n",
       "          (attention): EsmAttention(\n",
       "            (self): EsmSelfAttention(\n",
       "              (query): Linear(in_features=480, out_features=480, bias=True)\n",
       "              (key): Linear(in_features=480, out_features=480, bias=True)\n",
       "              (value): Linear(in_features=480, out_features=480, bias=True)\n",
       "              (dropout): Dropout(p=0.0, inplace=False)\n",
       "              (rotary_embeddings): RotaryEmbedding()\n",
       "            )\n",
       "            (output): EsmSelfOutput(\n",
       "              (dense): Linear(in_features=480, out_features=480, bias=True)\n",
       "              (dropout): Dropout(p=0.0, inplace=False)\n",
       "            )\n",
       "            (LayerNorm): LayerNorm((480,), eps=1e-05, elementwise_affine=True)\n",
       "          )\n",
       "          (intermediate): EsmIntermediate(\n",
       "            (dense): Linear(in_features=480, out_features=1920, bias=True)\n",
       "          )\n",
       "          (output): EsmOutput(\n",
       "            (dense): Linear(in_features=1920, out_features=480, bias=True)\n",
       "            (dropout): Dropout(p=0.0, inplace=False)\n",
       "          )\n",
       "          (LayerNorm): LayerNorm((480,), eps=1e-05, elementwise_affine=True)\n",
       "        )\n",
       "      )\n",
       "      (emb_layer_norm_after): LayerNorm((480,), eps=1e-05, elementwise_affine=True)\n",
       "    )\n",
       "    (contact_head): EsmContactPredictionHead(\n",
       "      (regression): Linear(in_features=240, out_features=1, bias=True)\n",
       "      (activation): Sigmoid()\n",
       "    )\n",
       "  )\n",
       "  (classifier): EsmClassificationHead(\n",
       "    (dense): Linear(in_features=480, out_features=480, bias=True)\n",
       "    (dropout): Dropout(p=0.0, inplace=False)\n",
       "    (out_proj): Linear(in_features=480, out_features=2, bias=True)\n",
       "  )\n",
       ")"
      ]
     },
     "execution_count": 21,
     "metadata": {},
     "output_type": "execute_result"
    }
   ],
   "source": [
    "from transformers import AutoModelForSequenceClassification, TrainingArguments, Trainer\n",
    "\n",
    "num_labels = 2#max(train_labs + valid_labs) + 1  # Add 1 since 0 can be a label\n",
    "model = AutoModelForSequenceClassification.from_pretrained(model_checkpoint, num_labels=num_labels)\n",
    "tokenizer = AutoTokenizer.from_pretrained(model_checkpoint)\n",
    "model.to(device)"
   ]
  },
  {
   "cell_type": "code",
   "execution_count": 22,
   "id": "d709d073-3233-4baa-87b6-a68d0abce09e",
   "metadata": {},
   "outputs": [
    {
     "name": "stderr",
     "output_type": "stream",
     "text": [
      "C:\\Users\\naomi\\AppData\\Local\\Temp\\ipykernel_41864\\735017275.py:2: FutureWarning: You are using `torch.load` with `weights_only=False` (the current default value), which uses the default pickle module implicitly. It is possible to construct malicious pickle data which will execute arbitrary code during unpickling (See https://github.com/pytorch/pytorch/blob/main/SECURITY.md#untrusted-models for more details). In a future release, the default value for `weights_only` will be flipped to `True`. This limits the functions that could be executed during unpickling. Arbitrary objects will no longer be allowed to be loaded via this mode unless they are explicitly allowlisted by the user via `torch.serialization.add_safe_globals`. We recommend you start setting `weights_only=True` for any use case where you don't have full control of the loaded file. Please open an issue on GitHub for any issues related to this experimental feature.\n",
      "  saved_state_dict = torch.load(\"../model_classification_v1_75.pth\")\n"
     ]
    },
    {
     "ename": "AttributeError",
     "evalue": "'_IncompatibleKeys' object has no attribute 'to'",
     "output_type": "error",
     "traceback": [
      "\u001b[1;31m---------------------------------------------------------------------------\u001b[0m",
      "\u001b[1;31mAttributeError\u001b[0m                            Traceback (most recent call last)",
      "Cell \u001b[1;32mIn[22], line 5\u001b[0m\n\u001b[0;32m      2\u001b[0m saved_state_dict \u001b[38;5;241m=\u001b[39m torch\u001b[38;5;241m.\u001b[39mload(\u001b[38;5;124m\"\u001b[39m\u001b[38;5;124m../model_classification_v1_75.pth\u001b[39m\u001b[38;5;124m\"\u001b[39m)\n\u001b[0;32m      4\u001b[0m \u001b[38;5;66;03m# Load the state_dict into the model\u001b[39;00m\n\u001b[1;32m----> 5\u001b[0m \u001b[43mmodel\u001b[49m\u001b[38;5;241;43m.\u001b[39;49m\u001b[43mload_state_dict\u001b[49m\u001b[43m(\u001b[49m\u001b[43msaved_state_dict\u001b[49m\u001b[43m)\u001b[49m\u001b[38;5;241;43m.\u001b[39;49m\u001b[43mto\u001b[49m(device)\n",
      "\u001b[1;31mAttributeError\u001b[0m: '_IncompatibleKeys' object has no attribute 'to'"
     ]
    }
   ],
   "source": [
    "# Load the saved state_dict (replace 'path_to_your_model.pth' with the actual path)\n",
    "saved_state_dict = torch.load(\"../model_classification_v1_75.pth\")\n",
    "\n",
    "# Load the state_dict into the model\n",
    "model.load_state_dict(saved_state_dict).to(device)"
   ]
  },
  {
   "cell_type": "code",
   "execution_count": 16,
   "id": "e22f5af1-2aa2-4df4-8c0e-4784fe4cee80",
   "metadata": {},
   "outputs": [
    {
     "data": {
      "text/plain": [
       "Index(['Entry', 'Reviewed', 'Entry Name', 'Protein names', 'Gene Names',\n",
       "       'Organism', 'Length', 'EC number', 'Sequence', 'Date of creation',\n",
       "       'Date of last modification', 'Entry version',\n",
       "       'Date of last sequence modification', 'Sequence version',\n",
       "       'Function [CC]', 'Annotation', 'ec', 'ec1', 'ec2', 'ec3', 'ec4', 'n_ec',\n",
       "       'cerevisiae', 'lable', 'test', 'maya_prot', 'maya_cluster'],\n",
       "      dtype='object')"
      ]
     },
     "execution_count": 16,
     "metadata": {},
     "output_type": "execute_result"
    }
   ],
   "source": [
    "df.columns"
   ]
  },
  {
   "cell_type": "code",
   "execution_count": 17,
   "id": "b559e131-9eef-459c-83b3-044aa0f6ed9f",
   "metadata": {},
   "outputs": [
    {
     "data": {
      "text/plain": [
       "'MATEAPPPVDTTEVPPFTAAETAVKQPHKLERKWTFWFDNQSKPKQGAAWGSSLKKAYTFDTVEEFWSLYDQIFKPSKLTVNADFHLFKAGIEPKWEDPECANGGKWTVTSSRKANLETMWLETLMALVGEQFDDSEDICGVVASVRRSQDKLSLWTKTATNEAAQMGIGRKWKEIIDTEKISYSFHDDSKRERSAKSRYTV'"
      ]
     },
     "execution_count": 17,
     "metadata": {},
     "output_type": "execute_result"
    }
   ],
   "source": [
    "df[['Entry','ec','EC number', 'Sequence']].Sequence.values[60]"
   ]
  },
  {
   "cell_type": "code",
   "execution_count": 24,
   "id": "4ed4520b-4ec1-403a-89ea-1790fe43356a",
   "metadata": {},
   "outputs": [],
   "source": [
    "seq0='MMKMKQQGLVADLLPNIRVMKTFGHFVFNYYNDNSSKYLHKVYCCVNLFMLLLQFGLCAVNLIVESADVDDLTANTITLLFFTHSIVKICYFAIRSKYFYRTWAIWNNPNSHPLFAESNARYHAIALKKMRLLLFLVGGTTMLAAVAWTVLTFFEHPIRKIVDPVTNETEIIELPQLLIRSFYPFDAGKGITHVLVLVYQFYWVLFMLIDANSLDVLFCSWLLFACEQLQHLKQIMKPLMELSATLDTVVPNSSELFKAGSADHLRDGDNPPPPPPPQSDNMLDLDLRNIYSNRQDFTATFRPTAGMTFNGGVGPNGLTKKQEALVRSAIKYWVERHKHIVRLVTAVGDAYGFALLLHMLTTTITLTLLAYQATKVNGINVYAASTIGYILYTFGQVFLFCIFGNRLIEESTSVMEAAYSCHWYDGSEEAKTFVQIVCQQCQKAMSISGAKFFTVSLDLFASVLGAVVTYFMVLVQLK'"
   ]
  },
  {
   "cell_type": "code",
   "execution_count": 25,
   "id": "653e6ff4-a164-4fdb-90a7-4a9e8bfd8a89",
   "metadata": {},
   "outputs": [],
   "source": [
    "seq10 = 'MEIKYLLTVFLVLLIVSDHCQAFLFSLIPNAISGLLSAFKGRRKRNLDGQIDRFRNFRKRDAELEELLSKLPIY'"
   ]
  },
  {
   "cell_type": "code",
   "execution_count": 26,
   "id": "d5270e53-e261-4d36-b9f6-42ac1f57c9ed",
   "metadata": {},
   "outputs": [],
   "source": [
    "seq60='MATEAPPPVDTTEVPPFTAAETAVKQPHKLERKWTFWFDNQSKPKQGAAWGSSLKKAYTFDTVEEFWSLYDQIFKPSKLTVNADFHLFKAGIEPKWEDPECANGGKWTVTSSRKANLETMWLETLMALVGEQFDDSEDICGVVASVRRSQDKLSLWTKTATNEAAQMGIGRKWKEIIDTEKISYSFHDDSKRERSAKSRYTV'"
   ]
  },
  {
   "cell_type": "code",
   "execution_count": 27,
   "id": "962a36e8-1a28-44ab-8cca-9348d99dc2f8",
   "metadata": {},
   "outputs": [],
   "source": [
    "from transformers import Trainer, TrainingArguments\n",
    "from torch.utils.data import DataLoader, WeightedRandomSampler\n",
    "from datasets import Dataset\n",
    "\n",
    "sequences = [seq0,seq10,seq60]\n",
    "tokenized = tokenizer(sequences  , max_length=512, padding=True, truncation=True)\n",
    "dataset = Dataset.from_dict(tokenized)\n",
    "dataset.set_format('torch')\n",
    "loader = DataLoader(dataset, batch_size=len(sequences))"
   ]
  },
  {
   "cell_type": "code",
   "execution_count": 22,
   "id": "4a27619e-a622-4d17-9b58-bca8be717dbc",
   "metadata": {},
   "outputs": [],
   "source": [
    "loader = DataLoader(dataset, batch_size=len(sequences))"
   ]
  },
  {
   "cell_type": "code",
   "execution_count": 23,
   "id": "a8499434-4995-496d-afc7-f62c62a1fc59",
   "metadata": {},
   "outputs": [
    {
     "data": {
      "text/plain": [
       "EsmForSequenceClassification(\n",
       "  (esm): EsmModel(\n",
       "    (embeddings): EsmEmbeddings(\n",
       "      (word_embeddings): Embedding(33, 480, padding_idx=1)\n",
       "      (dropout): Dropout(p=0.0, inplace=False)\n",
       "      (position_embeddings): Embedding(1026, 480, padding_idx=1)\n",
       "    )\n",
       "    (encoder): EsmEncoder(\n",
       "      (layer): ModuleList(\n",
       "        (0-11): 12 x EsmLayer(\n",
       "          (attention): EsmAttention(\n",
       "            (self): EsmSelfAttention(\n",
       "              (query): Linear(in_features=480, out_features=480, bias=True)\n",
       "              (key): Linear(in_features=480, out_features=480, bias=True)\n",
       "              (value): Linear(in_features=480, out_features=480, bias=True)\n",
       "              (dropout): Dropout(p=0.0, inplace=False)\n",
       "              (rotary_embeddings): RotaryEmbedding()\n",
       "            )\n",
       "            (output): EsmSelfOutput(\n",
       "              (dense): Linear(in_features=480, out_features=480, bias=True)\n",
       "              (dropout): Dropout(p=0.0, inplace=False)\n",
       "            )\n",
       "            (LayerNorm): LayerNorm((480,), eps=1e-05, elementwise_affine=True)\n",
       "          )\n",
       "          (intermediate): EsmIntermediate(\n",
       "            (dense): Linear(in_features=480, out_features=1920, bias=True)\n",
       "          )\n",
       "          (output): EsmOutput(\n",
       "            (dense): Linear(in_features=1920, out_features=480, bias=True)\n",
       "            (dropout): Dropout(p=0.0, inplace=False)\n",
       "          )\n",
       "          (LayerNorm): LayerNorm((480,), eps=1e-05, elementwise_affine=True)\n",
       "        )\n",
       "      )\n",
       "      (emb_layer_norm_after): LayerNorm((480,), eps=1e-05, elementwise_affine=True)\n",
       "    )\n",
       "    (contact_head): EsmContactPredictionHead(\n",
       "      (regression): Linear(in_features=240, out_features=1, bias=True)\n",
       "      (activation): Sigmoid()\n",
       "    )\n",
       "  )\n",
       "  (classifier): EsmClassificationHead(\n",
       "    (dense): Linear(in_features=480, out_features=480, bias=True)\n",
       "    (dropout): Dropout(p=0.0, inplace=False)\n",
       "    (out_proj): Linear(in_features=480, out_features=2, bias=True)\n",
       "  )\n",
       ")"
      ]
     },
     "execution_count": 23,
     "metadata": {},
     "output_type": "execute_result"
    }
   ],
   "source": [
    "model.to(device)"
   ]
  },
  {
   "cell_type": "code",
   "execution_count": 36,
   "id": "927eda71-2ca0-47a4-9f72-fd53d9954cc4",
   "metadata": {},
   "outputs": [
    {
     "name": "stdout",
     "output_type": "stream",
     "text": [
      "Using device: cuda\n"
     ]
    },
    {
     "name": "stderr",
     "output_type": "stream",
     "text": [
      "Some weights of EsmForSequenceClassification were not initialized from the model checkpoint at facebook/esm2_t12_35M_UR50D and are newly initialized: ['classifier.dense.bias', 'classifier.dense.weight', 'classifier.out_proj.bias', 'classifier.out_proj.weight']\n",
      "You should probably TRAIN this model on a down-stream task to be able to use it for predictions and inference.\n",
      "C:\\Users\\naomi\\AppData\\Local\\Temp\\ipykernel_41864\\2748876090.py:18: FutureWarning: You are using `torch.load` with `weights_only=False` (the current default value), which uses the default pickle module implicitly. It is possible to construct malicious pickle data which will execute arbitrary code during unpickling (See https://github.com/pytorch/pytorch/blob/main/SECURITY.md#untrusted-models for more details). In a future release, the default value for `weights_only` will be flipped to `True`. This limits the functions that could be executed during unpickling. Arbitrary objects will no longer be allowed to be loaded via this mode unless they are explicitly allowlisted by the user via `torch.serialization.add_safe_globals`. We recommend you start setting `weights_only=True` for any use case where you don't have full control of the loaded file. Please open an issue on GitHub for any issues related to this experimental feature.\n",
      "  saved_state_dict = torch.load(\"../model_classification_v1_75.pth\", map_location=device)\n"
     ]
    },
    {
     "name": "stdout",
     "output_type": "stream",
     "text": [
      "Predictions completed!\n",
      "Logits shape: torch.Size([3, 2])\n",
      "Logits: tensor([[ 3.5575, -3.4010],\n",
      "        [ 3.3726, -3.2337],\n",
      "        [ 2.1333, -2.0080]], device='cuda:0')\n"
     ]
    },
    {
     "data": {
      "text/plain": [
       "(tensor([0.0009, 0.0013, 0.0157], device='cuda:0'),\n",
       " tensor([0, 0, 0], device='cuda:0'))"
      ]
     },
     "execution_count": 36,
     "metadata": {},
     "output_type": "execute_result"
    }
   ],
   "source": [
    "import torch\n",
    "from transformers import AutoTokenizer, AutoModelForSequenceClassification\n",
    "from torch.utils.data import DataLoader\n",
    "from datasets import Dataset\n",
    "\n",
    "# Device setup\n",
    "device = torch.device('cuda') if torch.cuda.is_available() else torch.device('cpu')\n",
    "print(f\"Using device: {device}\")\n",
    "\n",
    "# Model setup\n",
    "model_checkpoint = \"facebook/esm2_t12_35M_UR50D\"\n",
    "num_labels = 2\n",
    "\n",
    "model = AutoModelForSequenceClassification.from_pretrained(model_checkpoint, num_labels=num_labels)\n",
    "tokenizer = AutoTokenizer.from_pretrained(model_checkpoint)\n",
    "\n",
    "# Load saved state dict and move to device\n",
    "saved_state_dict = torch.load(\"../model_classification_v1_75.pth\", map_location=device)\n",
    "model.load_state_dict(saved_state_dict)\n",
    "model.to(device)\n",
    "model.eval()  # Set to evaluation mode\n",
    "\n",
    "# Prepare data\n",
    "sequences = [seq0, seq10, seq60]\n",
    "tokenized = tokenizer(sequences, max_length=512, padding=True, truncation=True, return_tensors='pt')\n",
    "\n",
    "# Move tokenized data to device\n",
    "tokenized = {key: val.to(device) for key, val in tokenized.items()}\n",
    "\n",
    "# Make predictions\n",
    "with torch.no_grad():  # Disable gradients for inference\n",
    "    outputs = model(**tokenized)\n",
    "    \n",
    "print(\"Predictions completed!\")\n",
    "print(f\"Logits shape: {outputs.logits.shape}\")\n",
    "print(f\"Logits: {outputs.logits}\")\n",
    "\n",
    "softmax = torch.nn.Softmax()\n",
    "    \n",
    "probs = softmax(outputs['logits'])\n",
    "pred_class =  torch.argmax(probs, axis=1)\n",
    "\n",
    "y_pred = probs[:,1]  #np.zeros(probs.shape, np.uint8)\n",
    "\n",
    "y_pred, pred_class"
   ]
  },
  {
   "cell_type": "markdown",
   "id": "90b22569-6154-4436-a6af-9bae055038f9",
   "metadata": {},
   "source": [
    "# Start"
   ]
  },
  {
   "cell_type": "code",
   "execution_count": null,
   "id": "c98c2090-a0d5-4033-99df-fb64499b1f2c",
   "metadata": {},
   "outputs": [],
   "source": []
  },
  {
   "cell_type": "code",
   "execution_count": 42,
   "id": "1ce0b49b-9c9f-4407-96e2-232106db2f9c",
   "metadata": {},
   "outputs": [
    {
     "name": "stdout",
     "output_type": "stream",
     "text": [
      "🧬 ESM2 Sequence Classification Tool\n",
      "============================================================\n",
      "📱 Using device: cuda\n",
      "⏳ Loading model...\n"
     ]
    },
    {
     "name": "stderr",
     "output_type": "stream",
     "text": [
      "Some weights of EsmForSequenceClassification were not initialized from the model checkpoint at facebook/esm2_t12_35M_UR50D and are newly initialized: ['classifier.dense.bias', 'classifier.dense.weight', 'classifier.out_proj.bias', 'classifier.out_proj.weight']\n",
      "You should probably TRAIN this model on a down-stream task to be able to use it for predictions and inference.\n",
      "C:\\Users\\naomi\\AppData\\Local\\Temp\\ipykernel_41864\\546906013.py:30: FutureWarning: You are using `torch.load` with `weights_only=False` (the current default value), which uses the default pickle module implicitly. It is possible to construct malicious pickle data which will execute arbitrary code during unpickling (See https://github.com/pytorch/pytorch/blob/main/SECURITY.md#untrusted-models for more details). In a future release, the default value for `weights_only` will be flipped to `True`. This limits the functions that could be executed during unpickling. Arbitrary objects will no longer be allowed to be loaded via this mode unless they are explicitly allowlisted by the user via `torch.serialization.add_safe_globals`. We recommend you start setting `weights_only=True` for any use case where you don't have full control of the loaded file. Please open an issue on GitHub for any issues related to this experimental feature.\n",
      "  saved_state_dict = torch.load(\"../model_classification_v1_75.pth\", map_location=device)\n"
     ]
    },
    {
     "name": "stdout",
     "output_type": "stream",
     "text": [
      "✅ Model loaded successfully!\n"
     ]
    }
   ],
   "source": [
    "# ESM2 Sequence Classification\n",
    "# Interactive protein sequence classification using ESM2\n",
    "\n",
    "import torch\n",
    "from transformers import AutoTokenizer, AutoModelForSequenceClassification\n",
    "import pandas as pd\n",
    "import matplotlib.pyplot as plt\n",
    "import numpy as np\n",
    "\n",
    "# ============================================================================\n",
    "# 🔧 SETUP AND MODEL LOADING\n",
    "# ============================================================================\n",
    "\n",
    "print(\"🧬 ESM2 Sequence Classification Tool\")\n",
    "print(\"=\"*60)\n",
    "\n",
    "# Device setup\n",
    "device = torch.device('cuda') if torch.cuda.is_available() else torch.device('cpu')\n",
    "print(f\"📱 Using device: {device}\")\n",
    "\n",
    "# Model setup\n",
    "model_checkpoint = \"facebook/esm2_t12_35M_UR50D\"\n",
    "num_labels = 2\n",
    "\n",
    "print(\"⏳ Loading model...\")\n",
    "model = AutoModelForSequenceClassification.from_pretrained(model_checkpoint, num_labels=num_labels)\n",
    "tokenizer = AutoTokenizer.from_pretrained(model_checkpoint)\n",
    "\n",
    "# Load saved state dict and move to device\n",
    "saved_state_dict = torch.load(\"../model_classification_v1_75.pth\", map_location=device)\n",
    "model.load_state_dict(saved_state_dict)\n",
    "model.to(device)\n",
    "model.eval()\n",
    "\n",
    "print(\"✅ Model loaded successfully!\")"
   ]
  },
  {
   "cell_type": "code",
   "execution_count": 43,
   "id": "5dc2832a-ab1c-43e4-9b5b-f0a551c95861",
   "metadata": {},
   "outputs": [],
   "source": [
    "# ============================================================================\n",
    "# 📝 SEQUENCE INPUT\n",
    "# ============================================================================\n",
    "\n",
    "\n",
    "sequence_1 = \"MKTVRQERLKSIVRILERSKEPVSGAQLAEELSVSRQVIVQDIAYLRSLGYNIVATPRGYVLAGG\" \n",
    "sequence_2 = \"MKWVTFISLLFLFSSAYSRGVFRRDAHKSEVAHRFKDLGEENFKALVLIAFAQYLQQCPFEDHVKLVNEVTEFAKTCVADESAENCDKSLHTLFGDKLCTVATLRETYGEMADCCAKQEPERNECFLQHKDDNPNLPRLVRPEVDVMCTAFHDNEETFLKKYLYEIARRHPYFYAPELLFFAKRYKAAFTECCQAADKAACLLPKLDELRDEGKASSAKQRLKCASLQKFGERAFKAWAVARLSQRFPKAEFAEVSKLVTDLTKVHTECCHGDLLECADDRADLAKYICENQDSISSKLKECCEKPLLEKSHCIAEVENDEMPADLPSLAADFVESKDVCKNYAEAKDVFLGMFLYEYARRHPDYSVVLLLRLAKTYETTLEKCCAAADPHECYAKVFDEFKPLVEEPQNLIKQNCELFEQLGEYKFQNALLVRYTKKVPQVSTPTLVEVSRNLGKVGSKCCKHPEAKRMPCAEDYLSVVLNQLCVLHEKTPVSDRVTKCCTESLVNRRPCFSALEVDETYVPKEFNAETFTFHADICTLSEKERQIKKQTALVELVKHKPKATKEQLKAVMDDFAAFVEKCCKADDKETCFAEEGKKLVAASQAALGL\" #@param {type:\"string\"}\n",
    "sequence_3 = \"MQIFVKTLTGKTITLEVEPSDTIENVKAKIQDKEGIPPDQQRLIFAGKQLEDGRTLSDYNIQKESTLHLVLRLRGG\" \n",
    "sequence_4 = \"\" \n",
    "sequence_5 = \"\" "
   ]
  },
  {
   "cell_type": "code",
   "execution_count": 44,
   "id": "e935cfe3-fd36-431a-8e70-d0ad4af82848",
   "metadata": {},
   "outputs": [
    {
     "name": "stdout",
     "output_type": "stream",
     "text": [
      "\n",
      "📊 Found 3 sequence(s) to analyze:\n",
      "  • Sequence 1: 65 amino acids\n",
      "    Preview: MKTVRQERLKSIVRILERSKEPVSGAQLAE...RQVIVQDIAYLRSLGYNIVATPRGYVLAGG\n",
      "  • Sequence 2: 609 amino acids\n",
      "    Preview: MKWVTFISLLFLFSSAYSRGVFRRDAHKSE...EKCCKADDKETCFAEEGKKLVAASQAALGL\n",
      "  • Sequence 3: 76 amino acids\n",
      "    Preview: MQIFVKTLTGKTITLEVEPSDTIENVKAKI...GKQLEDGRTLSDYNIQKESTLHLVLRLRGG\n",
      "\n",
      "🧠 Running ESM2 classification...\n",
      "✅ Predictions completed!\n",
      "\n",
      "================================================================================\n",
      "🎯 CLASSIFICATION RESULTS\n",
      "================================================================================\n",
      "\n",
      "🧬 Sequence 1:\n",
      "   Length: 65 amino acids\n",
      "   Prediction: Class 0\n",
      "   Confidence: 0.9984\n",
      "   Probabilities: Class 0: 0.9984 | Class 1: 0.0016\n",
      "   Interpretation: Not an Enzyme\n",
      "\n",
      "🧬 Sequence 2:\n",
      "   Length: 609 amino acids\n",
      "   Prediction: Class 0\n",
      "   Confidence: 0.9796\n",
      "   Probabilities: Class 0: 0.9796 | Class 1: 0.0204\n",
      "   Interpretation: Not an Enzyme\n",
      "\n",
      "🧬 Sequence 3:\n",
      "   Length: 76 amino acids\n",
      "   Prediction: Class 0\n",
      "   Confidence: 0.9984\n",
      "   Probabilities: Class 0: 0.9984 | Class 1: 0.0016\n",
      "   Interpretation: Not an Enzyme\n",
      "\n",
      "📋 SUMMARY TABLE:\n",
      "================================================================================\n"
     ]
    },
    {
     "data": {
      "text/html": [
       "<div>\n",
       "<style scoped>\n",
       "    .dataframe tbody tr th:only-of-type {\n",
       "        vertical-align: middle;\n",
       "    }\n",
       "\n",
       "    .dataframe tbody tr th {\n",
       "        vertical-align: top;\n",
       "    }\n",
       "\n",
       "    .dataframe thead th {\n",
       "        text-align: right;\n",
       "    }\n",
       "</style>\n",
       "<table border=\"1\" class=\"dataframe\">\n",
       "  <thead>\n",
       "    <tr style=\"text-align: right;\">\n",
       "      <th></th>\n",
       "      <th>Sequence_ID</th>\n",
       "      <th>Length</th>\n",
       "      <th>Predicted_Class</th>\n",
       "      <th>Confidence</th>\n",
       "      <th>Interpretation</th>\n",
       "    </tr>\n",
       "  </thead>\n",
       "  <tbody>\n",
       "    <tr>\n",
       "      <th>0</th>\n",
       "      <td>Seq_1</td>\n",
       "      <td>65</td>\n",
       "      <td>0</td>\n",
       "      <td>0.9984</td>\n",
       "      <td>Not an Enzyme</td>\n",
       "    </tr>\n",
       "    <tr>\n",
       "      <th>1</th>\n",
       "      <td>Seq_2</td>\n",
       "      <td>609</td>\n",
       "      <td>0</td>\n",
       "      <td>0.9796</td>\n",
       "      <td>Not an Enzyme</td>\n",
       "    </tr>\n",
       "    <tr>\n",
       "      <th>2</th>\n",
       "      <td>Seq_3</td>\n",
       "      <td>76</td>\n",
       "      <td>0</td>\n",
       "      <td>0.9984</td>\n",
       "      <td>Not an Enzyme</td>\n",
       "    </tr>\n",
       "  </tbody>\n",
       "</table>\n",
       "</div>"
      ],
      "text/plain": [
       "  Sequence_ID  Length  Predicted_Class Confidence Interpretation\n",
       "0       Seq_1      65                0     0.9984  Not an Enzyme\n",
       "1       Seq_2     609                0     0.9796  Not an Enzyme\n",
       "2       Seq_3      76                0     0.9984  Not an Enzyme"
      ]
     },
     "metadata": {},
     "output_type": "display_data"
    }
   ],
   "source": [
    "show_plots = True \n",
    "save_results = False \n",
    "\n",
    "# Process sequences\n",
    "raw_sequences = [sequence_1, sequence_2, sequence_3, sequence_4, sequence_5]\n",
    "sequences = [seq.strip().replace(' ', '').replace('\\n', '').upper() for seq in raw_sequences if seq.strip()]\n",
    "\n",
    "print(f\"\\n📊 Found {len(sequences)} sequence(s) to analyze:\")\n",
    "for i, seq in enumerate(sequences):\n",
    "    print(f\"  • Sequence {i+1}: {len(seq)} amino acids\")\n",
    "    if len(seq) > 60:\n",
    "        print(f\"    Preview: {seq[:30]}...{seq[-30:]}\")\n",
    "    else:\n",
    "        print(f\"    Sequence: {seq}\")\n",
    "\n",
    "if not sequences:\n",
    "    print(\"⚠️ No sequences provided. Please enter at least one sequence above.\")\n",
    "else:\n",
    "    # ============================================================================\n",
    "    # 🔮 PREDICTION\n",
    "    # ============================================================================\n",
    "    \n",
    "    print(f\"\\n🧠 Running ESM2 classification...\")\n",
    "    \n",
    "    # Tokenize sequences\n",
    "    tokenized = tokenizer(sequences, max_length=512, padding=True, truncation=True, return_tensors='pt')\n",
    "    \n",
    "    # Move tokenized data to device\n",
    "    tokenized = {key: val.to(device) for key, val in tokenized.items()}\n",
    "    \n",
    "    # Make predictions\n",
    "    with torch.no_grad():\n",
    "        outputs = model(**tokenized)\n",
    "    \n",
    "    # Calculate probabilities and predictions\n",
    "    softmax = torch.nn.Softmax(dim=1)\n",
    "    probs = softmax(outputs.logits)\n",
    "    pred_class = torch.argmax(probs, dim=1)\n",
    "    y_pred = probs[:, 1]  # Probability of class 1\n",
    "    \n",
    "    # Convert to numpy\n",
    "    probs_np = probs.cpu().numpy()\n",
    "    pred_class_np = pred_class.cpu().numpy()\n",
    "    y_pred_np = y_pred.cpu().numpy()\n",
    "    \n",
    "    print(\"✅ Predictions completed!\")\n",
    "    \n",
    "    # ============================================================================\n",
    "    # 📊 RESULTS\n",
    "    # ============================================================================\n",
    "    \n",
    "    # Create results table\n",
    "    print(f\"\\n{'='*80}\")\n",
    "    print(\"🎯 CLASSIFICATION RESULTS\")\n",
    "    print(f\"{'='*80}\")\n",
    "    \n",
    "    results_data = []\n",
    "    for i, (seq, pred, prob_all) in enumerate(zip(sequences, pred_class_np, probs_np)):\n",
    "        confidence = max(prob_all)\n",
    "        \n",
    "        print(f\"\\n🧬 Sequence {i+1}:\")\n",
    "        print(f\"   Length: {len(seq)} amino acids\")\n",
    "        print(f\"   Prediction: Class {pred}\")\n",
    "        print(f\"   Confidence: {confidence:.4f}\")\n",
    "        print(f\"   Probabilities: Class 0: {prob_all[0]:.4f} | Class 1: {prob_all[1]:.4f}\")\n",
    "        \n",
    "        # Determine prediction interpretation\n",
    "        if pred == 0:\n",
    "            interpretation = \"Not an Enzyme\" if confidence > 0.7 else \"Likely Negative\"\n",
    "        else:\n",
    "            interpretation = \"an Enzyme\" if confidence > 0.7 else \"Likely Positive\"\n",
    "        \n",
    "        print(f\"   Interpretation: {interpretation}\")\n",
    "        \n",
    "        results_data.append({\n",
    "            'Sequence_ID': f'Seq_{i+1}',\n",
    "            'Length': len(seq),\n",
    "            'Predicted_Class': int(pred),\n",
    "            'Confidence': f\"{confidence:.4f}\",\n",
    "            'Class_0_Prob': f\"{prob_all[0]:.4f}\",\n",
    "            'Class_1_Prob': f\"{prob_all[1]:.4f}\",\n",
    "            'Interpretation': interpretation,\n",
    "            'Sequence': seq[:100] + '...' if len(seq) > 100 else seq\n",
    "        })\n",
    "    \n",
    "    # Create DataFrame\n",
    "    results_df = pd.DataFrame(results_data)\n",
    "    \n",
    "    print(f\"\\n📋 SUMMARY TABLE:\")\n",
    "    print(\"=\"*80)\n",
    "    display(results_df[['Sequence_ID', 'Length', 'Predicted_Class', 'Confidence', 'Interpretation']])"
   ]
  },
  {
   "cell_type": "code",
   "execution_count": 45,
   "id": "ff05aee7-7b09-4342-916a-e9a76e3c0638",
   "metadata": {},
   "outputs": [
    {
     "name": "stdout",
     "output_type": "stream",
     "text": [
      "\n",
      "🎉 Analysis Complete!\n",
      "📊 Processed: 3 sequences\n",
      "🔴 Class 0 predictions: 3\n",
      "🔵 Class 1 predictions: 0\n",
      "📈 Average confidence: 0.992\n",
      "\n",
      "============================================================\n",
      "🔬 Ready for new sequences! Edit the sequences above and re-run.\n",
      "============================================================\n"
     ]
    }
   ],
   "source": [
    "  \n",
    "    # ============================================================================\n",
    "    # 💾 SAVE RESULTS\n",
    "    # ============================================================================\n",
    "    \n",
    "    if save_results:\n",
    "        filename = 'sequence_classification_results.csv'\n",
    "        results_df.to_csv(filename, index=False)\n",
    "        print(f\"💾 Results saved to {filename}\")\n",
    "    \n",
    "    # Final summary\n",
    "    print(f\"\\n🎉 Analysis Complete!\")\n",
    "    print(f\"📊 Processed: {len(sequences)} sequences\")\n",
    "    print(f\"🔴 Class 0 predictions: {sum(pred_class_np == 0)}\")\n",
    "    print(f\"🔵 Class 1 predictions: {sum(pred_class_np == 1)}\")\n",
    "    \n",
    "    avg_confidence = np.mean([max(prob) for prob in probs_np])\n",
    "    print(f\"📈 Average confidence: {avg_confidence:.3f}\")\n",
    "    \n",
    "    print(\"\\n\" + \"=\"*60)\n",
    "    print(\"🔬 Ready for new sequences! Edit the sequences above and re-run.\")\n",
    "    print(\"=\"*60)"
   ]
  },
  {
   "cell_type": "code",
   "execution_count": 3,
   "id": "0adebfed-5a5d-47da-bf86-8708f4039205",
   "metadata": {},
   "outputs": [
    {
     "ename": "NameError",
     "evalue": "name 'df_maya' is not defined",
     "output_type": "error",
     "traceback": [
      "\u001b[1;31m---------------------------------------------------------------------------\u001b[0m",
      "\u001b[1;31mNameError\u001b[0m                                 Traceback (most recent call last)",
      "Cell \u001b[1;32mIn[3], line 1\u001b[0m\n\u001b[1;32m----> 1\u001b[0m \u001b[43mdf_maya\u001b[49m\n",
      "\u001b[1;31mNameError\u001b[0m: name 'df_maya' is not defined"
     ]
    }
   ],
   "source": [
    "df_maya"
   ]
  },
  {
   "cell_type": "code",
   "execution_count": null,
   "id": "892819cd-ab40-495f-af30-66bba1e6abcc",
   "metadata": {},
   "outputs": [],
   "source": []
  },
  {
   "cell_type": "code",
   "execution_count": null,
   "id": "e91682f6-4f4b-4bb3-b7ac-77fdc2c2f8c3",
   "metadata": {},
   "outputs": [],
   "source": []
  },
  {
   "cell_type": "code",
   "execution_count": 2,
   "id": "0a95040c-ebb8-4ec1-9605-71b0f7bba980",
   "metadata": {},
   "outputs": [
    {
     "name": "stdout",
     "output_type": "stream",
     "text": [
      "Using device: cuda\n",
      "Loading model...\n"
     ]
    },
    {
     "name": "stderr",
     "output_type": "stream",
     "text": [
      "Some weights of EsmForSequenceClassification were not initialized from the model checkpoint at facebook/esm2_t12_35M_UR50D and are newly initialized: ['classifier.dense.bias', 'classifier.dense.weight', 'classifier.out_proj.bias', 'classifier.out_proj.weight']\n",
      "You should probably TRAIN this model on a down-stream task to be able to use it for predictions and inference.\n",
      "C:\\Users\\naomi\\AppData\\Local\\Temp\\ipykernel_55484\\3835380047.py:27: FutureWarning: You are using `torch.load` with `weights_only=False` (the current default value), which uses the default pickle module implicitly. It is possible to construct malicious pickle data which will execute arbitrary code during unpickling (See https://github.com/pytorch/pytorch/blob/main/SECURITY.md#untrusted-models for more details). In a future release, the default value for `weights_only` will be flipped to `True`. This limits the functions that could be executed during unpickling. Arbitrary objects will no longer be allowed to be loaded via this mode unless they are explicitly allowlisted by the user via `torch.serialization.add_safe_globals`. We recommend you start setting `weights_only=True` for any use case where you don't have full control of the loaded file. Please open an issue on GitHub for any issues related to this experimental feature.\n",
      "  saved_state_dict = torch.load(\"../model_classification_v1_75.pth\", map_location=device)\n"
     ]
    },
    {
     "name": "stdout",
     "output_type": "stream",
     "text": [
      "✅ Model loaded successfully!\n",
      "sequence_1: PIAQIHILEGRSDEQKETLIREVSEAISRSLDAPLTSVRVIITEMAKGHFGIGGELASK\n",
      "length: 59\n",
      "\n",
      "Running ESM2 classification on 1 sequence(s)...\n",
      "✅ Predictions completed!\n",
      "\n",
      "============================================================\n",
      "CLASSIFICATION RESULTS\n",
      "============================================================\n",
      "\n",
      "Sequence 1:\n",
      "  Length: 59 amino acids\n",
      "  Prediction: Class 1\n",
      "  Confidence: 0.9623\n",
      "  Class 0 Prob: 0.0377\n",
      "  Class 1 Prob: 0.9623\n",
      "\n",
      "💾 Results saved to sequence_classification_results.csv\n",
      "Saved columns: sequence_id, sequence, length, predicted_class, confidence, class_0_prob, class_1_prob\n",
      "\n",
      "✅ Analysis complete! Processed 1 sequences.\n"
     ]
    }
   ],
   "source": [
    "# ESM2 Sequence Classification\n",
    "# Input protein sequence(s), then hit `Runtime` -> `Run all`\n",
    "\n",
    "import torch\n",
    "from transformers import AutoTokenizer, AutoModelForSequenceClassification\n",
    "import pandas as pd\n",
    "import os\n",
    "import re\n",
    "\n",
    "# ============================================================================\n",
    "# 🔧 SETUP AND MODEL LOADING\n",
    "# ============================================================================\n",
    "\n",
    "# Device setup\n",
    "device = torch.device('cuda') if torch.cuda.is_available() else torch.device('cpu')\n",
    "print(f\"Using device: {device}\")\n",
    "\n",
    "# Model setup\n",
    "model_checkpoint = \"facebook/esm2_t12_35M_UR50D\"\n",
    "num_labels = 2\n",
    "\n",
    "print(\"Loading model...\")\n",
    "model = AutoModelForSequenceClassification.from_pretrained(model_checkpoint, num_labels=num_labels)\n",
    "tokenizer = AutoTokenizer.from_pretrained(model_checkpoint)\n",
    "\n",
    "# Load saved state dict and move to device\n",
    "saved_state_dict = torch.load(\"../model_classification_v1_75.pth\", map_location=device)\n",
    "model.load_state_dict(saved_state_dict)\n",
    "model.to(device)\n",
    "model.eval()\n",
    "\n",
    "print(\"✅ Model loaded successfully!\")\n",
    "\n",
    "# ============================================================================\n",
    "# 📝 INPUT PROTEIN SEQUENCES\n",
    "# ============================================================================\n",
    "\n",
    "#@title Input protein sequence(s), then hit `Runtime` -> `Run all`\n",
    "\n",
    "sequence_1 = 'PIAQIHILEGRSDEQKETLIREVSEAISRSLDAPLTSVRVIITEMAKGHFGIGGELASK' #@param {type:\"string\"}\n",
    "sequence_2 = '' #@param {type:\"string\"}\n",
    "sequence_3 = '' #@param {type:\"string\"}\n",
    "sequence_4 = '' #@param {type:\"string\"}\n",
    "sequence_5 = '' #@param {type:\"string\"}\n",
    "sequence_6 = '' #@param {type:\"string\"}\n",
    "sequence_7 = '' #@param {type:\"string\"}\n",
    "sequence_8 = '' #@param {type:\"string\"}\n",
    "sequence_9 = '' #@param {type:\"string\"}\n",
    "sequence_10 = '' #@param {type:\"string\"}\n",
    "\n",
    "save_results = True #@param {type:\"boolean\"}\n",
    "\n",
    "# Process sequences\n",
    "raw_sequences = [sequence_1, sequence_2, sequence_3, sequence_4, sequence_5, \n",
    "                sequence_6, sequence_7, sequence_8, sequence_9, sequence_10]\n",
    "\n",
    "# Clean and filter sequences\n",
    "sequences = []\n",
    "for i, seq in enumerate(raw_sequences):\n",
    "    if seq.strip():\n",
    "        # Remove whitespaces and clean sequence\n",
    "        clean_seq = \"\".join(seq.split()).upper()\n",
    "        sequences.append(clean_seq)\n",
    "        print(f\"sequence_{i+1}: {clean_seq}\")\n",
    "        print(f\"length: {len(clean_seq)}\")\n",
    "\n",
    "if not sequences:\n",
    "    print(\"⚠️ No sequences provided. Please enter at least one sequence above.\")\n",
    "else:\n",
    "    # ============================================================================\n",
    "    # 🔮 PREDICTION\n",
    "    # ============================================================================\n",
    "    \n",
    "    print(f\"\\nRunning ESM2 classification on {len(sequences)} sequence(s)...\")\n",
    "    \n",
    "    # Tokenize sequences\n",
    "    tokenized = tokenizer(sequences, max_length=512, padding=True, truncation=True, return_tensors='pt')\n",
    "    \n",
    "    # Move tokenized data to device\n",
    "    tokenized = {key: val.to(device) for key, val in tokenized.items()}\n",
    "    \n",
    "    # Make predictions\n",
    "    with torch.no_grad():\n",
    "        outputs = model(**tokenized)\n",
    "    \n",
    "    # Calculate probabilities and predictions\n",
    "    softmax = torch.nn.Softmax(dim=1)\n",
    "    probs = softmax(outputs.logits)\n",
    "    pred_class = torch.argmax(probs, dim=1)\n",
    "    \n",
    "    # Convert to numpy\n",
    "    probs_np = probs.cpu().numpy()\n",
    "    pred_class_np = pred_class.cpu().numpy()\n",
    "    \n",
    "    print(\"✅ Predictions completed!\")\n",
    "    \n",
    "    # ============================================================================\n",
    "    # 📊 RESULTS\n",
    "    # ============================================================================\n",
    "    \n",
    "    print(f\"\\n{'='*60}\")\n",
    "    print(\"CLASSIFICATION RESULTS\")\n",
    "    print(f\"{'='*60}\")\n",
    "    \n",
    "    results_data = []\n",
    "    for i, (seq, pred, prob_all) in enumerate(zip(sequences, pred_class_np, probs_np)):\n",
    "        confidence = max(prob_all)\n",
    "        \n",
    "        print(f\"\\nSequence {i+1}:\")\n",
    "        print(f\"  Length: {len(seq)} amino acids\")\n",
    "        print(f\"  Prediction: Class {pred}\")\n",
    "        print(f\"  Confidence: {confidence:.4f}\")\n",
    "        print(f\"  Class 0 Prob: {prob_all[0]:.4f}\")\n",
    "        print(f\"  Class 1 Prob: {prob_all[1]:.4f}\")\n",
    "        \n",
    "        results_data.append({\n",
    "            'sequence_id': f'sequence_{i+1}',\n",
    "            'sequence': seq,\n",
    "            'length': len(seq),\n",
    "            'predicted_class': int(pred),\n",
    "            'confidence': f\"{confidence:.4f}\",\n",
    "            'class_0_prob': f\"{prob_all[0]:.4f}\",\n",
    "            'class_1_prob': f\"{prob_all[1]:.4f}\"\n",
    "        })\n",
    "    \n",
    "    # Create DataFrame\n",
    "    results_df = pd.DataFrame(results_data)\n",
    "    \n",
    "    # ============================================================================\n",
    "    # 💾 SAVE RESULTS\n",
    "    # ============================================================================\n",
    "    \n",
    "    if save_results:\n",
    "        filename = 'sequence_classification_results.csv'\n",
    "        results_df.to_csv(filename, index=False)\n",
    "        print(f\"\\n💾 Results saved to {filename}\")\n",
    "        print(\"Saved columns: sequence_id, sequence, length, predicted_class, confidence, class_0_prob, class_1_prob\")\n",
    "    \n",
    "    print(f\"\\n✅ Analysis complete! Processed {len(sequences)} sequences.\")"
   ]
  },
  {
   "cell_type": "code",
   "execution_count": 26,
   "id": "d3c130c0-bf3b-4d0a-970f-e8ff51d5ed70",
   "metadata": {},
   "outputs": [
    {
     "name": "stdout",
     "output_type": "stream",
     "text": [
      "cuda\n"
     ]
    }
   ],
   "source": [
    "print(device)"
   ]
  },
  {
   "cell_type": "code",
   "execution_count": 35,
   "id": "75926d2e-8f9a-4167-9765-b67c20fc4548",
   "metadata": {},
   "outputs": [
    {
     "name": "stderr",
     "output_type": "stream",
     "text": [
      "C:\\Users\\naomi\\miniconda3\\envs\\pytr\\lib\\site-packages\\torch\\nn\\modules\\module.py:1736: UserWarning: Implicit dimension choice for softmax has been deprecated. Change the call to include dim=X as an argument.\n",
      "  return self._call_impl(*args, **kwargs)\n"
     ]
    },
    {
     "data": {
      "text/plain": [
       "(tensor([0.0009, 0.0013, 0.0157], device='cuda:0'),\n",
       " tensor([0, 0, 0], device='cuda:0'))"
      ]
     },
     "execution_count": 35,
     "metadata": {},
     "output_type": "execute_result"
    }
   ],
   "source": [
    "from sklearn.metrics import f1_score, roc_auc_score, accuracy_score, f1_score\n",
    "from transformers import EvalPrediction\n",
    "import torch\n",
    "\n",
    "softmax = torch.nn.Softmax()\n",
    "    \n",
    "probs = softmax(outputs['logits'])\n",
    "pred_class =  torch.argmax(probs, axis=1)\n",
    "\n",
    "y_pred = probs[:,1]  #np.zeros(probs.shape, np.uint8)\n",
    "\n",
    "y_pred, pred_class"
   ]
  },
  {
   "cell_type": "code",
   "execution_count": 34,
   "id": "413c4086-0e33-4fe9-a0ee-90a2959f9fc6",
   "metadata": {},
   "outputs": [
    {
     "data": {
      "text/plain": [
       "(tensor([0.0323, 0.0379, 0.1184], device='cuda:0'),\n",
       " tensor([0, 0, 0], device='cuda:0'))"
      ]
     },
     "execution_count": 34,
     "metadata": {},
     "output_type": "execute_result"
    }
   ],
   "source": [
    "from sklearn.metrics import f1_score, roc_auc_score, accuracy_score, f1_score\n",
    "from transformers import EvalPrediction\n",
    "import torch\n",
    "\n",
    "sigmoid = torch.nn.Sigmoid()\n",
    "    \n",
    "probs = sigmoid(outputs['logits'])\n",
    "pred_class =  torch.argmax(probs, axis=1)\n",
    "\n",
    "y_pred = probs[:,1]  #np.zeros(probs.shape, np.uint8)\n",
    "\n",
    "y_pred, pred_class"
   ]
  },
  {
   "cell_type": "code",
   "execution_count": 33,
   "id": "d83b17a7-6b63-4fcf-b666-ce33755716dc",
   "metadata": {},
   "outputs": [
    {
     "data": {
      "text/plain": [
       "Entry                                                                        A0A0A1I6N9\n",
       "Reviewed                                                                       reviewed\n",
       "Entry Name                                                                  NDB4T_ANDCR\n",
       "Protein names                                              Antimicrobial peptide AcrAP2\n",
       "Gene Names                                                                          NaN\n",
       "Organism                              Androctonus crassicauda (Arabian fat-tailed sc...\n",
       "Length                                                                               74\n",
       "EC number                                                                           NaN\n",
       "Sequence                              MEIKYLLTVFLVLLIVSDHCQAFLFSLIPNAISGLLSAFKGRRKRN...\n",
       "Date of creation                                                             2015-04-01\n",
       "Date of last modification                                                    2024-03-27\n",
       "Entry version                                                                        10\n",
       "Date of last sequence modification                                           2015-02-04\n",
       "Sequence version                                                                      1\n",
       "Function [CC]                         FUNCTION: Has antimicrobial activity against t...\n",
       "Annotation                                                                          5.0\n",
       "ec                                                                              0.0.0.0\n",
       "ec1                                                                                   0\n",
       "ec2                                                                                   0\n",
       "ec3                                                                                   0\n",
       "ec4                                                                                   0\n",
       "n_ec                                                                                  0\n",
       "cerevisiae                                                                            0\n",
       "lable                                                                                 0\n",
       "test                                                                                  0\n",
       "maya_prot                                                                             0\n",
       "maya_cluster                                                                          0\n",
       "Name: 10, dtype: object"
      ]
     },
     "execution_count": 33,
     "metadata": {},
     "output_type": "execute_result"
    }
   ],
   "source": [
    "df.iloc[10]"
   ]
  },
  {
   "cell_type": "code",
   "execution_count": null,
   "id": "b806828b-6244-4a2f-98f9-03dc4110c4b9",
   "metadata": {},
   "outputs": [],
   "source": [
    "    model.eval()\n",
    "    with torch.no_grad():\n",
    "    for i, vdata in enumerate(test_loader):vdata['input_ids']=vdata['input_ids'].to(device)\n",
    "            vdata['attention_mask']=vdata['attention_mask'].to(device)\n",
    "            vdata['labels'] = vdata['labels'].to(device)\n",
    "            voutputs = model(**vdata)\n",
    "            \n",
    "            \n",
    "            # Compute the loss and its gradients\n",
    "            vloss = voutputs['loss'] \n",
    "            running_vloss += vloss\n",
    "            # Collect predictions and labels\n",
    "            preds.extend(voutputs['logits'].tolist())\n",
    "            labs.extend(vdata['labels'].tolist())"
   ]
  }
 ],
 "metadata": {
  "kernelspec": {
   "display_name": "Python 3 (ipykernel)",
   "language": "python",
   "name": "python3"
  },
  "language_info": {
   "codemirror_mode": {
    "name": "ipython",
    "version": 3
   },
   "file_extension": ".py",
   "mimetype": "text/x-python",
   "name": "python",
   "nbconvert_exporter": "python",
   "pygments_lexer": "ipython3",
   "version": "3.10.16"
  }
 },
 "nbformat": 4,
 "nbformat_minor": 5
}
